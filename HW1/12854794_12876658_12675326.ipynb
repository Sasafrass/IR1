{
 "cells": [
  {
   "cell_type": "markdown",
   "metadata": {},
   "source": [
    "# Homework 1 (Total Points: 175)\n",
    "\n",
    "\n",
    "\n",
    "Learning Goals:\n",
    "- Learn how to load a dataset and process it.\n",
    "- Learn how to implement several IR methods (TFIDF, BM25, QL) and understand their weaknesses & strengths.\n",
    "- Learn how to evaluate IR methods\n",
    "\n",
    "\n",
    "**NOTE 1**: Only the code (`TODO: Implement this!` denotes these sections) is graded. The 'theory' questions in this assignment serve as a preparation for the exam and to facilitate a deeper understanding of the course content. These questions (denoted by `TODO: Answer this!`) have no points assigned to them, but **need** to be filled out before submission.  \n",
    "\n",
    "**NOTE 2**: You can use the `nltk`, `numpy` and `matplotlib` libraries here. Other libraries, e.g., `gensim` or `scikit-learn`, may not be used. \n",
    "\n",
    "**NOTE 3**: The notebook you submit has to have the student ids, seperated by underscores (E.g., `12341234_12341234_12341234.ipynb`). \n",
    "\n",
    "**NOTE 4**: Make sure to check that your notebook runs before submission. A quick way to do this is to restart the kernel and run all the cells.  \n",
    "\n",
    "---\n",
    "Additional Resources: \n",
    "-  Sections 2.3, 4.1, 4.2, 4.3, 5.3, 5.6, 5.7, 6.2, 7, 8 of [Search Engines: Information Retrieval in Practice](https://ciir.cs.umass.edu/downloads/SEIRiP.pdf)\n"
   ]
  },
  {
   "cell_type": "code",
   "execution_count": 1,
   "metadata": {},
   "outputs": [
    {
     "name": "stderr",
     "output_type": "stream",
     "text": [
      "C:\\Users\\Christiaan\\Anaconda3\\envs\\dl\\lib\\site-packages\\IPython\\html.py:14: ShimWarning: The `IPython.html` package has been deprecated since IPython 4.0. You should import from `notebook` instead. `IPython.html.widgets` has moved to `ipywidgets`.\n",
      "  \"`IPython.html.widgets` has moved to `ipywidgets`.\", ShimWarning)\n"
     ]
    }
   ],
   "source": [
    "# imports \n",
    "# TODO: Ensure that no additional library is imported in the notebook. \n",
    "# TODO: Only the standard library and the following libraries are allowed:\n",
    "\n",
    "import os\n",
    "import zipfile\n",
    "from functools import partial\n",
    "\n",
    "import nltk\n",
    "import requests\n",
    "import numpy as np\n",
    "from tqdm import tqdm\n",
    "\n",
    "import matplotlib.pyplot as plt\n",
    "\n",
    "from ipywidgets import widgets\n",
    "from IPython.display import display, HTML\n",
    "from IPython.html import widgets\n",
    "from collections import namedtuple\n",
    "\n",
    "%matplotlib inline"
   ]
  },
  {
   "cell_type": "markdown",
   "metadata": {},
   "source": [
    "## Section 1: Text Processing (20 points)\n",
    "\n",
    "In this section, we will load the dataset and learn how to clean up the data to make it usable for an IR system. \n",
    "\n",
    "We are using the [CACM dataset](http://ir.dcs.gla.ac.uk/resources/test_collections/cacm/), which is a small, classic IR dataset, composed of a collection of titles and abstracts from the journal CACM. It comes with relevance judgements for queries, so we can evaluate our IR system. \n",
    "\n",
    "The following cell downloads the dataset and unzips it to a local directory"
   ]
  },
  {
   "cell_type": "code",
   "execution_count": 2,
   "metadata": {},
   "outputs": [],
   "source": [
    "def download_dataset(folder_path = \"./datasets/\"):\n",
    "    \n",
    "    os.makedirs(folder_path, exist_ok=True)\n",
    "    \n",
    "    file_location = os.path.join(folder_path, \"cacm.zip\")\n",
    "    \n",
    "    # download file if it doesn't exist\n",
    "    if not os.path.exists(file_location):\n",
    "        \n",
    "        url = \"https://surfdrive.surf.nl/files/index.php/s/M0FGJpX2p8wDwxR/download\"\n",
    "\n",
    "        with open(file_location, \"wb\") as handle:\n",
    "            print(f\"Downloading file from {url} to {file_location}\")\n",
    "            response = requests.get(url, stream=True)\n",
    "            for data in tqdm(response.iter_content()):\n",
    "                handle.write(data)\n",
    "            print(\"Finished downloading file\")\n",
    "    \n",
    "    if not os.path.exists(os.path.join(folder_path, \"train.txt\")):\n",
    "        \n",
    "        # unzip file\n",
    "        with zipfile.ZipFile(file_location, 'r') as zip_ref:\n",
    "            zip_ref.extractall(folder_path)\n",
    "        \n",
    "download_dataset()"
   ]
  },
  {
   "cell_type": "markdown",
   "metadata": {},
   "source": [
    "You can see a brief description of each file in the dataset by looking at the README file"
   ]
  },
  {
   "cell_type": "code",
   "execution_count": 2,
   "metadata": {},
   "outputs": [
    {
     "name": "stdout",
     "output_type": "stream",
     "text": [
      "Files in this directory with sizes:\n",
      "          0 Jun 19 21:01 README\n",
      "\n",
      "    2187734 Jun 19 20:55 cacm.all              text of documents\n",
      "        626 Jun 19 20:58 cite.info             key to citation info\n",
      "                                                (the X sections in cacm.all)\n",
      "       2668 Jun 19 20:55 common_words           stop words used by smart\n",
      "       2194 Jun 19 20:55 make_coll*             shell script to make collection\n",
      "       1557 Jun 19 20:55 make_coll_term*        ditto (both useless without\n",
      "                                                smart system)\n",
      "       9948 Jun 19 20:55 qrels.text             relation giving\n",
      "                                                    qid did 0 0\n",
      "                                                to indicate dument did is\n",
      "                                                relevant to query qid\n",
      "      13689 Jun 19 20:55 query.text             Original text of the query\n"
     ]
    }
   ],
   "source": [
    "##### Read the README file \n",
    "!cat ./datasets/README\n",
    "#####"
   ]
  },
  {
   "cell_type": "markdown",
   "metadata": {},
   "source": [
    "----\n",
    "We are interested in 4 files:\n",
    "- `cacm.all` : Contains the text for all documents. Note that some documents do not have abstracts available. \n",
    "- `query.text` : The text of all queries\n",
    "- `qrels.text` : The relevance judgements\n",
    "- `common_words` : A list of common words. This may be used as a collection of stopwords"
   ]
  },
  {
   "cell_type": "code",
   "execution_count": 3,
   "metadata": {},
   "outputs": [
    {
     "name": "stdout",
     "output_type": "stream",
     "text": [
      ".I 1\n",
      ".T\n",
      "Preliminary Report-International Algebraic Language\n",
      ".B\n",
      "CACM December, 1958\n",
      ".A\n",
      "Perlis, A. J.\n",
      "Samelson,K.\n",
      ".N\n",
      "CA581203 JB March 22, 1978  8:28 PM\n",
      ".X\n",
      "100\t5\t1\n",
      "123\t5\t1\n",
      "164\t5\t1\n",
      "1\t5\t1\n",
      "1\t5\t1\n",
      "1\t5\t1\n",
      "205\t5\t1\n",
      "210\t5\t1\n",
      "214\t5\t1\n",
      "1982\t5\t1\n",
      "398\t5\t1\n",
      "642\t5\t1\n",
      "669\t5\t1\n",
      "1\t6\t1\n",
      "1\t6\t1\n",
      "1\t6\t1\n",
      "1\t6\t1\n",
      "1\t6\t1\n",
      "1\t6\t1\n",
      "1\t6\t1\n",
      "1\t6\t1\n",
      "1\t6\t1\n",
      "1\t6\t1\n",
      "165\t6\t1\n",
      "196\t6\t1\n",
      "196\t6\t1\n",
      "1273\t6\t1\n",
      "1883\t6\t1\n",
      "324\t6\t1\n",
      "43\t6\t1\n",
      "53\t6\t1\n",
      "91\t6\t1\n",
      "410\t6\t1\n",
      "3184\t6\t1\n"
     ]
    }
   ],
   "source": [
    "##### The first 45 lines of the CACM dataset forms the first record\n",
    "# We are interested only in 3 fields. \n",
    "# 1. the '.I' field, which is the document id\n",
    "# 2. the '.T' field (the title) and\n",
    "# 3. the '.W' field (the abstract, which may be absent)\n",
    "!head -45 ./datasets/cacm.all\n",
    "#####"
   ]
  },
  {
   "cell_type": "markdown",
   "metadata": {},
   "source": [
    "---\n",
    "\n",
    "Now, write a function to read in the `cacm.all` file. Note that each document has a variable number of lines. The `.I` field denotes a new document"
   ]
  },
  {
   "cell_type": "code",
   "execution_count": 4,
   "metadata": {},
   "outputs": [],
   "source": [
    "# TODO: Implement this! (4 points)\n",
    "def read_cacm_docs(root_folder = \"./datasets/\"):\n",
    "    \"\"\"\n",
    "        Reads in the CACM documents. The dataset is assumed to be in the folder \"./datasets/cacm\" be default\n",
    "        Returns: A list of 2-tuples: (doc_id, document), where 'document' is a single string created by \n",
    "            appending the title and abstract (seperated by a \"\\n\"). \n",
    "            In case the record doesn't have an abstract, the document is composed only by the title\n",
    "    \"\"\"\n",
    "    f = open(root_folder + \"cacm.all\", \"r\")\n",
    "\n",
    "    # Dummy val for first abstract\n",
    "    lijst = []\n",
    "    abstract = \"\"\n",
    "\n",
    "    # Split the line that's read\n",
    "    split = f.readline().split()\n",
    "\n",
    "    # Iterate over all entries in the ca\n",
    "    for i in range(100000):\n",
    "\n",
    "        # Append all current data if we encounter a .i again\n",
    "        #print(split)\n",
    "        if split[0] == \".I\":\n",
    "            if split[1] != str(1):\n",
    "                lijst.append((doc_id, t + \"\" + abstract))\n",
    "                t = \"\"\n",
    "                abstract = \"\"\n",
    "\n",
    "        # Check for index\n",
    "        if split[0] == \".I\":\n",
    "            doc_id = split[1]\n",
    "\n",
    "        # Check for Title\n",
    "        if split[0] == \".T\":\n",
    "            t = f.readline()\n",
    "\n",
    "        # Check for abstract\n",
    "        if split[0] == \".W\":\n",
    "\n",
    "            w = f.readline()\n",
    "            abstract = \"\"\n",
    "\n",
    "            while w.split()[0] != \".B\":\n",
    "                abstract += w + \" \"\n",
    "                w = f.readline()\n",
    "            #print(abstract)\n",
    "\n",
    "        # Split the line that's read\n",
    "        split = f.readline().split()\n",
    "        \n",
    "        # Break if we reach EOF\n",
    "        if not split:\n",
    "            break \n",
    "\n",
    "    lijst.append((doc_id, t + \"\" + abstract))\n",
    "\n",
    "    return lijst\n",
    "\n",
    "docs = read_cacm_docs()"
   ]
  },
  {
   "cell_type": "code",
   "execution_count": 5,
   "metadata": {},
   "outputs": [
    {
     "name": "stdout",
     "output_type": "stream",
     "text": [
      "3204\n"
     ]
    }
   ],
   "source": [
    "##### \n",
    "print(len(docs))\n",
    "assert len(docs) == 3204, \"There should be exactly 3024 documents\"\n",
    "##### "
   ]
  },
  {
   "cell_type": "markdown",
   "metadata": {},
   "source": [
    "---\n",
    "\n",
    "Next, let us read the queries. They are formatted similarly: "
   ]
  },
  {
   "cell_type": "code",
   "execution_count": 6,
   "metadata": {},
   "outputs": [
    {
     "name": "stdout",
     "output_type": "stream",
     "text": [
      ".I 1\n",
      ".W\n",
      " What articles exist which deal with TSS (Time Sharing System), an\n",
      "operating system for IBM computers?\n",
      ".N\n",
      " 1. Richard Alexander, Comp Serv, Langmuir Lab (TSS)\n",
      " \n",
      ".I 2\n",
      ".W\n",
      " I am interested in articles written either by Prieve or Udo Pooch\n",
      ".A\n",
      "Prieve, B.\n",
      "Pooch, U.\n",
      ".N\n",
      " 2. Richard Alexander, Comp Serv, Langmuir Lab (author = Pooch or Prieve)\n"
     ]
    }
   ],
   "source": [
    "##### The first 15 lines of 'query.text' has 2 queries\n",
    "# We are interested only in 2 fields. \n",
    "# 1. the '.I' - the query id\n",
    "# 2. the '.W' - the query\n",
    "# 3. the '.W' field (the abstract, which may be absent)\n",
    "!head -15 ./datasets/query.text\n",
    "#####"
   ]
  },
  {
   "cell_type": "markdown",
   "metadata": {},
   "source": [
    "---\n",
    "\n",
    "Now, write a function to read in this file:"
   ]
  },
  {
   "cell_type": "code",
   "execution_count": 7,
   "metadata": {},
   "outputs": [],
   "source": [
    "# TODO: Implement this! (3 points)\n",
    "def read_queries(root_folder = \"./datasets/\"):\n",
    "    \"\"\"\n",
    "        Reads in the CACM queries. The dataset is assumed to be in the folder \"./datasets/\" be default\n",
    "        Returns: A list of 2-tuples: (query_id, query)\n",
    "    \"\"\"\n",
    "    f = open(root_folder + \"query.text\", \"r\")\n",
    "\n",
    "    # Dummy val for first abstract\n",
    "    lijst = []\n",
    "    query = \"\"\n",
    "\n",
    "    # Split the line that's read\n",
    "    split = f.readline().split()\n",
    "\n",
    "    # Iterate over all entries in the ca\n",
    "    for i in range(100000):\n",
    "\n",
    "        # Append all current data if we encounter a .i again\n",
    "        #print(split)\n",
    "        if split[0] == \".I\":\n",
    "            if split[1] != str(1):\n",
    "                lijst.append((doc_id, query))\n",
    "                query = \"\"\n",
    "\n",
    "        # Check for index\n",
    "        if split[0] == \".I\":\n",
    "            doc_id = split[1]\n",
    "\n",
    "        # Check for abstract\n",
    "        if split[0] == \".W\":\n",
    "\n",
    "            w = f.readline()\n",
    "            query = \"\"\n",
    "            \n",
    "            # Add all constituents of the query\n",
    "            while w.split()[0] != \".N\" and w.split()[0] != \".A\":\n",
    "                query += w + \" \"\n",
    "                w = f.readline()\n",
    "\n",
    "        # Split the line that's read\n",
    "        split = f.readline().split()\n",
    "        \n",
    "        # Break if we reach EOF\n",
    "        # Having a counter to prevent infinite loop\n",
    "        count = 0\n",
    "        \n",
    "        while not split:\n",
    "            split = f.readline().split()\n",
    "            count += 1\n",
    "            \n",
    "            if count > 10:\n",
    "                lijst.append((doc_id, query))\n",
    "                return lijst\n",
    "\n",
    "    #lijst.append((doc_id, query))\n",
    "\n",
    "    return lijst\n",
    "\n",
    "queries = read_queries()"
   ]
  },
  {
   "cell_type": "code",
   "execution_count": 8,
   "metadata": {
    "scrolled": true
   },
   "outputs": [
    {
     "name": "stdout",
     "output_type": "stream",
     "text": [
      "64\n"
     ]
    }
   ],
   "source": [
    "##### \n",
    "print(len(queries))\n",
    "assert len(queries) == 64 and all([q[1] is not None for q in queries]), \"There should be exactly 64 queries\"\n",
    "##### "
   ]
  },
  {
   "cell_type": "markdown",
   "metadata": {},
   "source": [
    "---\n",
    "\n",
    "Read in the stop words:"
   ]
  },
  {
   "cell_type": "code",
   "execution_count": 9,
   "metadata": {},
   "outputs": [
    {
     "name": "stdout",
     "output_type": "stream",
     "text": [
      "a\n",
      "about\n",
      "above\n",
      "accordingly\n",
      "across\n",
      "after\n",
      "afterwards\n",
      "again\n",
      "against\n",
      "all\n"
     ]
    }
   ],
   "source": [
    "!head ./datasets/common_words"
   ]
  },
  {
   "cell_type": "code",
   "execution_count": 10,
   "metadata": {},
   "outputs": [],
   "source": [
    "# TODO: Implement this! (3 points)\n",
    "def load_stopwords(root_folder = \"./datasets/\"):\n",
    "    \"\"\"\n",
    "    Load the stopwords\n",
    "    Output: A set of stopwords\n",
    "    \"\"\"\n",
    "    # Initialize set and open file\n",
    "    stop_words = set()\n",
    "    f = open(root_folder + \"common_words\", \"r\")\n",
    "    \n",
    "    for i in range(500):\n",
    "        words = f.readline().split()\n",
    "        \n",
    "        # Exit loop if we encounter empty string - EOF\n",
    "        if not words:\n",
    "            break\n",
    "        stop_words.add(words[0])\n",
    "\n",
    "    # Gimme dem stopwords\n",
    "    return stop_words\n",
    "            \n",
    "stopwords = load_stopwords()\n",
    "assert len(stopwords) == 428"
   ]
  },
  {
   "cell_type": "markdown",
   "metadata": {},
   "source": [
    "--- \n",
    "\n",
    "We can now write some basic text processing functions. A first step is to tokenize the text. You may use any tokenizer available in the `nltk` library:"
   ]
  },
  {
   "cell_type": "code",
   "execution_count": 11,
   "metadata": {},
   "outputs": [],
   "source": [
    "# TODO: Implement this! (5 points)\n",
    "def tokenize(text):\n",
    "    \"\"\"\n",
    "        Tokenize the text. \n",
    "        Input: text - a string\n",
    "        Output: a list of tokens\n",
    "        \n",
    "    \"\"\"\n",
    "    return nltk.word_tokenize(text)"
   ]
  },
  {
   "cell_type": "code",
   "execution_count": 12,
   "metadata": {},
   "outputs": [
    {
     "name": "stdout",
     "output_type": "stream",
     "text": [
      "['the', 'quick', 'brown', 'fox', 'jumps', 'over', 'the', 'lazy', 'dog']\n"
     ]
    }
   ],
   "source": [
    "#####\n",
    "text = \"the quick brown fox jumps over the lazy dog\"\n",
    "tokens = tokenize(text)\n",
    "print(tokens)\n",
    "#####"
   ]
  },
  {
   "cell_type": "markdown",
   "metadata": {},
   "source": [
    "---\n",
    "\n",
    "*Answer the following questions*: \n",
    "- Why is stemming necessary, in particular for IR?\n",
    "    - Stemming is necessary because we want to be able to retrieve information based on a query as well as we possibly can. By \n",
    "      representing each word by its corresponding stem, we can ensure that we find all relevant documents related to the term\n",
    "      instead of potentially excluding a lot of terms that only have an affix appended to the word. E.g. let's say someone\n",
    "      searches for \"cats\" then \"cat\" will most likely result in relevancy too.\n",
    "- Is there any setting (domain, scenario, etc) in which stemming can hurt performance? Illustrate with an example\n",
    "    - *TODO: Answer this!*"
   ]
  },
  {
   "cell_type": "markdown",
   "metadata": {},
   "source": [
    "Write a function to stem tokens. Again, you can use the `nltk` library for this"
   ]
  },
  {
   "cell_type": "code",
   "execution_count": 13,
   "metadata": {},
   "outputs": [],
   "source": [
    "# TODO: Implement this! (5 points)\n",
    "def stem_token(token):\n",
    "    \"\"\"\n",
    "        Stem the given token, using any stemmer available from the nltk library\n",
    "        Input: a single token\n",
    "        Output: the stem of the token\n",
    "    \"\"\"\n",
    "    stemmer = nltk.PorterStemmer()\n",
    "    return stemmer.stem(token)"
   ]
  },
  {
   "cell_type": "code",
   "execution_count": 14,
   "metadata": {},
   "outputs": [
    {
     "name": "stdout",
     "output_type": "stream",
     "text": [
      "['the', 'quick', 'brown', 'fox', 'jump', 'over', 'the', 'lazi', 'dog']\n",
      "['caress', 'fli', 'die', 'mule', 'deni', 'die', 'agre', 'own', 'humbl', 'size', 'meet', 'state', 'siez', 'item', 'sensat', 'tradit', 'refer', 'colon', 'plot']\n"
     ]
    }
   ],
   "source": [
    "####\n",
    "print([stem_token(t) for t in tokens])\n",
    "tokens_ = [\n",
    "    'caresses', 'flies', 'dies', 'mules', 'denied',\n",
    "    'died', 'agreed', 'owned', 'humbled', 'sized',\n",
    "    'meeting', 'stating', 'siezing', 'itemization',\n",
    "    'sensational', 'traditional', 'reference', 'colonizer',\n",
    "    'plotted']\n",
    "print([stem_token(t) for t in tokens_])\n",
    "####"
   ]
  },
  {
   "cell_type": "markdown",
   "metadata": {},
   "source": [
    "---\n",
    "\n",
    "*Answer the following questions*: \n",
    "- Another processing step (not done here) is to use n-grams. Illustrate why you would want to use n-grams in IR with an example.  \n",
    "    - *TODO: Answer this!*\n",
    "- Usage of n-grams exacerbates some problems ex. in bi-gram language models. What is this problem? Suggest one solution \n",
    "    - *TODO: Answer this!*"
   ]
  },
  {
   "cell_type": "markdown",
   "metadata": {},
   "source": [
    "--- \n",
    "\n",
    "The following function puts it all together. Given a string, it tokenizes it, and processes it according to the flags that you set."
   ]
  },
  {
   "cell_type": "code",
   "execution_count": 15,
   "metadata": {},
   "outputs": [],
   "source": [
    "#### Putting it all together\n",
    "def process_text(text, stem=False, remove_stopwords=False, lowercase_text=False):\n",
    "    \n",
    "    tokens = []\n",
    "    for token in tokenize(text):\n",
    "        if remove_stopwords and token.lower() in stopwords:\n",
    "            continue\n",
    "        if stem:\n",
    "            token = stem_token(token)\n",
    "        if lowercase_text:\n",
    "            token = token.lower()\n",
    "        tokens.append(token)\n",
    "\n",
    "    return tokens\n",
    "#### "
   ]
  },
  {
   "cell_type": "markdown",
   "metadata": {},
   "source": [
    "Let's create two sets of pre-processed documents"
   ]
  },
  {
   "cell_type": "code",
   "execution_count": 17,
   "metadata": {},
   "outputs": [],
   "source": [
    "# In this configuration:\n",
    "# Don't preprocess the text, except to tokenize \n",
    "config_1 = {\n",
    "  \"stem\": False,\n",
    "  \"remove_stopwords\" : False,\n",
    "  \"lowercase_text\": True\n",
    "} \n",
    "\n",
    "\n",
    "# In this configuration:\n",
    "# Preprocess the text: stem and remove stopwords\n",
    "config_2 = {\n",
    "  \"stem\": True,\n",
    "  \"remove_stopwords\" : True,\n",
    "  \"lowercase_text\": True, \n",
    "} \n"
   ]
  },
  {
   "cell_type": "markdown",
   "metadata": {},
   "source": [
    "We can now process the documents and queries according to the configuration specified above"
   ]
  },
  {
   "cell_type": "code",
   "execution_count": 18,
   "metadata": {},
   "outputs": [],
   "source": [
    "####\n",
    "doc_repr_1 = []\n",
    "doc_repr_2 = []\n",
    "for (doc_id, document) in docs:\n",
    "    doc_repr_1.append((doc_id, process_text(document, **config_1)))\n",
    "    doc_repr_2.append((doc_id, process_text(document, **config_2)))\n",
    "\n",
    "####"
   ]
  },
  {
   "cell_type": "code",
   "execution_count": 19,
   "metadata": {},
   "outputs": [
    {
     "data": {
      "text/plain": [
       "('1', ['preliminary', 'report-international', 'algebraic', 'language'])"
      ]
     },
     "execution_count": 19,
     "metadata": {},
     "output_type": "execute_result"
    }
   ],
   "source": [
    "doc_repr_1[0]"
   ]
  },
  {
   "cell_type": "code",
   "execution_count": 20,
   "metadata": {},
   "outputs": [
    {
     "data": {
      "text/plain": [
       "('1', ['preliminari', 'report-intern', 'algebra', 'languag'])"
      ]
     },
     "execution_count": 20,
     "metadata": {},
     "output_type": "execute_result"
    }
   ],
   "source": [
    "doc_repr_2[0]"
   ]
  },
  {
   "cell_type": "markdown",
   "metadata": {},
   "source": [
    "\n",
    "--- \n",
    "\n",
    "## Section 2: Indexing (10 points)\n",
    "\n",
    "\n",
    "A retrieval function usually takes in a query document pair, and scores a query against a document.  Our document set is quite small - just a few thousand documents. However, consider a web-scale dataset with a few million documents. In such a scenario, it would become infeasible to score every query and document pair. In such a case, we can build an inverted index. From Wikipedia:\n",
    "\n",
    "> ... , an inverted index (also referred to as a postings file or inverted file) is a database index storing a mapping from content, such as words or numbers, to its locations in a table, .... The purpose of an inverted index is to allow fast full-text searches, at a cost of increased processing when a document is added to the database. ...\n",
    "\n",
    "\n",
    "Consider a simple inverted index, which maps from word to document. This can improve the performance of a retrieval system significantly. In this assignment, we consider a *simple* inverted index, which maps a word to a set of documents. In practice, however, more complex indices might be used.  \n",
    "\n",
    "\n",
    "### Building an index\n",
    "\n",
    "A retrieval function usually takes in a query document pair, and scores a query against a document.  Our document set is quite small - just a few thousand documents. However, consider a web-scale dataset with a few million documents. In such a scenario, it would become infeasible to score every query and document pair. In such a case, we can build an inverted index. From Wikipedia:\n",
    "\n",
    "> ... , an inverted index (also referred to as a postings file or inverted file) is a database index storing a mapping from content, such as words or numbers, to its locations in a table, .... The purpose of an inverted index is to allow fast full-text searches, at a cost of increased processing when a document is added to the database. ...\n",
    "\n",
    "\n",
    "Consider a simple inverted index, which maps from word to document. This can improve the performance of a retrieval system significantly. In this assignment, we consider a *simple* inverted index, which maps a word to a set of documents. In practice, however, more complex indices might be used.  \n"
   ]
  },
  {
   "cell_type": "markdown",
   "metadata": {},
   "source": [
    "---\n",
    "\n",
    "In this assignment we will be using an index created in memory, since our dataset is tiny. To get started, build a simple index that maps simply counts the number of tokens present in a document. This index  is built using a python dictionary.\n",
    "\n",
    "*Answer the following questions*:\n",
    "- What is the time complexity of retrieving a list of documents from a python `dict` object? \n",
    "    - *TODO: Answer this!*\n",
    "- Consider the case with a 10 million documents. What is the time complexity of retrieval with an inverted index (assuming you can fit the entire index in memory)? (Hint: Consider length of a query $|q|$) \n",
    "    - *TODO: Answer this!*\n",
    "- For a large enough collection, we cannot store an index in memory. How is this tackled in practice (briefly explain)? Comment on the time complexity. \n",
    "    - *TODO: Answer this!*\n",
    "- Mention a use-case in which a simple index (from word -> doc_id) might not suffice anymore. How would you modify the index to suit this use-case (if you can!)  \n",
    "    - *TODO: Answer this!*\n",
    "    \n",
    "    \n",
    "Now, implement a function to build an index:"
   ]
  },
  {
   "cell_type": "code",
   "execution_count": 96,
   "metadata": {},
   "outputs": [],
   "source": [
    "# doc_repr_1 is NOT stemmed etc\n",
    "# doc_repr_2 is tokenized and stemmed etc"
   ]
  },
  {
   "cell_type": "code",
   "execution_count": 25,
   "metadata": {},
   "outputs": [],
   "source": [
    "# TODO: Implement this! 10 points\n",
    "def build_tf_index(documents):\n",
    "    \"\"\"\n",
    "    Build an inverted index (with counts). The output is a dictionary which takes in a token\n",
    "    and returns a list of (doc_id, count) where 'count' is the count of the 'token' in 'doc_id'\n",
    "    Input: a list of documents - (doc_id, tokens) \n",
    "    Output: An inverted index. [token] -> [(doc_id, token_count)]\n",
    "    \"\"\"\n",
    "    # Initialize the main dictionary\n",
    "    # And a value dictionary to reduce computational complexity\n",
    "    indexdict = {}\n",
    "    \n",
    "    # Naive implementation because I didn't manage to quickly write a faster implementation\n",
    "    for i in range(len(documents)):\n",
    "        valuedict = {}\n",
    "        \n",
    "        # Get doc_id and content\n",
    "        doc_id, content = documents[i]\n",
    "        doc_id = int(doc_id)        \n",
    "\n",
    "        # Initialize all values to 0\n",
    "        for word in content:\n",
    "            valuedict[word] = 0\n",
    "        \n",
    "        # Do actual counting\n",
    "        for word in content:\n",
    "            valuedict[word] += 1\n",
    "            \n",
    "        for key, value in valuedict.items():\n",
    "            \n",
    "            # Is this a set lookup? guess not\n",
    "            if key in indexdict.keys():\n",
    "                indexdict[key].append((doc_id, value))\n",
    "            else:\n",
    "                indexdict[key] = [(doc_id, value)]\n",
    "        \n",
    "    return indexdict\n",
    "        \n",
    " \n",
    "# Create the 2 indices\n",
    "tf_index_1 = build_tf_index(doc_repr_1)\n",
    "tf_index_2 = build_tf_index(doc_repr_2)\n",
    "\n",
    "#test_index = build_tf_index([(1, [\"hoi\", \"hoi\", \"poep\", \"hoi\", \"poep\"]), (2,[\"hey\", \"hoi\", \"hoi\", \"hey\"])])\n",
    "\n",
    "# This function returns the correct index \n",
    "def get_index(index_set):\n",
    "    assert index_set in {1, 2}\n",
    "    return {\n",
    "        1: tf_index_1,\n",
    "        2: tf_index_2\n",
    "    }[index_set]\n",
    "\n",
    "# This function correctly pre-processes the text given the index set\n",
    "def preprocess_query(text, index_set):\n",
    "    assert index_set in {1, 2}\n",
    "    if index_set == 1:\n",
    "        return process_text(text, **config_1)\n",
    "    elif index_set == 2:\n",
    "        return process_text(text, **config_2)\n"
   ]
  },
  {
   "cell_type": "code",
   "execution_count": null,
   "metadata": {},
   "outputs": [],
   "source": []
  },
  {
   "cell_type": "markdown",
   "metadata": {},
   "source": [
    "--- \n",
    "\n",
    "## Section 3: Retrieval  (80 points)\n",
    "\n",
    "Now that we have cleaned and processed our dataset, we can start building simple IR systems. \n",
    "\n",
    "For now, we consider *simple* IR systems, which involve computing scores from the tokens present in the document/query. More advanced methods are covered in later assignments.\n",
    "\n",
    "We will implement the following methods in this section:\n",
    "- TF-IDF\n",
    "- BM25\n",
    "- Query Likelihood Models\n",
    "\n",
    "--- \n",
    "\n",
    "### Ranking functions\n",
    "\n",
    "\n",
    "Probably the simplest IR model is the Bag of Words (BOW) model. Implement a function that scores a query against a document using this model.   \n",
    "\n",
    "Note that you can use either the count of the token or 'binarize' it i.e set the value equal to 1 if the token appears.   \n"
   ]
  },
  {
   "cell_type": "markdown",
   "metadata": {},
   "source": [
    "**Note:** Make sure you use the `get_index` function to retrieve the correct index, and call `preprocess_query` with the correct index!"
   ]
  },
  {
   "cell_type": "code",
   "execution_count": 46,
   "metadata": {},
   "outputs": [],
   "source": [
    "# TODO: Implement this! 10 points\n",
    "def bow_search(query, index_set):\n",
    "    \"\"\"\n",
    "        Perform a search over all documents with the given query. \n",
    "        Note #1: You have to use the `get_index` function created in the previous cells\n",
    "        Note #2: You can binarize the counts if you wish to\n",
    "        Input: \n",
    "            query - a (unprocessed) query\n",
    "            index_set - the index to use\n",
    "        Output: a list of (document_id, score), sorted in descending relevance to the given query \n",
    "    \"\"\"\n",
    "    index = get_index(index_set)\n",
    "    query = preprocess_query(query, index_set)\n",
    "    \n",
    "    valuecount = {}\n",
    "    \n",
    "    for word in query:\n",
    "        lijst = index[word]\n",
    "        \n",
    "        for (a,b) in lijst:\n",
    "            if not a in valuecount:\n",
    "                valuecount[a] = 1\n",
    "            else:\n",
    "                valuecount[a] += 1\n",
    "    return {k: v for k, v in sorted(valuecount.items(), key=lambda item: item[1], reverse=True)}"
   ]
  },
  {
   "cell_type": "code",
   "execution_count": 47,
   "metadata": {},
   "outputs": [
    {
     "name": "stdout",
     "output_type": "stream",
     "text": [
      "{1265: 6, 533: 5, 1691: 5, 1871: 5, 1907: 5, 2542: 5, 2669: 5, 2688: 5, 2923: 5, 3094: 5, 95: 5, 1155: 5, 2060: 5, 2184: 5, 2603: 5, 3070: 5, 71: 4, 254: 4, 397: 4, 644: 4, 761: 4, 855: 4, 950: 4, 982: 4, 1001: 4, 1028: 4, 1051: 4, 1084: 4, 1115: 4, 1116: 4, 1290: 4, 1308: 4, 1362: 4, 1421: 4, 1468: 4, 1476: 4, 1514: 4, 1525: 4, 1526: 4, 1592: 4, 1614: 4, 1684: 4, 1696: 4, 1721: 4, 1747: 4, 1806: 4, 1845: 4, 1911: 4, 1931: 4, 1959: 4, 2005: 4, 2032: 4, 2036: 4, 2053: 4, 2130: 4, 2134: 4, 2160: 4, 2177: 4, 2196: 4, 2198: 4, 2203: 4, 2262: 4, 2272: 4, 2307: 4, 2343: 4, 2345: 4, 2367: 4, 2372: 4, 2390: 4, 2400: 4, 2407: 4, 2450: 4, 2455: 4, 2479: 4, 2492: 4, 2522: 4, 2527: 4, 2546: 4, 2556: 4, 2572: 4, 2582: 4, 2593: 4, 2594: 4, 2598: 4, 2657: 4, 2696: 4, 2704: 4, 2716: 4, 2741: 4, 2819: 4, 2833: 4, 2852: 4, 2874: 4, 2892: 4, 2915: 4, 2922: 4, 2929: 4, 2944: 4, 2946: 4, 2988: 4, 2997: 4, 3005: 4, 3015: 4, 3017: 4, 3043: 4, 3046: 4, 3071: 4, 3076: 4, 3089: 4, 3091: 4, 3098: 4, 3100: 4, 3102: 4, 3125: 4, 3128: 4, 3176: 4, 54: 4, 144: 4, 224: 4, 320: 4, 367: 4, 405: 4, 435: 4, 728: 4, 1010: 4, 1029: 4, 1033: 4, 1047: 4, 1072: 4, 1097: 4, 1134: 4, 1166: 4, 1181: 4, 1234: 4, 1259: 4, 1334: 4, 1350: 4, 1399: 4, 1400: 4, 1408: 4, 1409: 4, 1423: 4, 1454: 4, 1456: 4, 1488: 4, 1523: 4, 1536: 4, 1564: 4, 1571: 4, 1588: 4, 1593: 4, 1603: 4, 1619: 4, 1625: 4, 1633: 4, 1652: 4, 1674: 4, 1681: 4, 1705: 4, 1725: 4, 1726: 4, 1738: 4, 1742: 4, 1810: 4, 1834: 4, 1844: 4, 1846: 4, 1885: 4, 1892: 4, 1902: 4, 1936: 4, 1939: 4, 1948: 4, 1956: 4, 1973: 4, 1997: 4, 2002: 4, 2003: 4, 2018: 4, 2076: 4, 2081: 4, 2083: 4, 2093: 4, 2146: 4, 2148: 4, 2165: 4, 2178: 4, 2179: 4, 2189: 4, 2194: 4, 2263: 4, 2264: 4, 2289: 4, 2326: 4, 2353: 4, 2357: 4, 2368: 4, 2387: 4, 2396: 4, 2402: 4, 2438: 4, 2483: 4, 2490: 4, 2498: 4, 2514: 4, 2525: 4, 2555: 4, 2569: 4, 2580: 4, 2620: 4, 2666: 4, 2667: 4, 2692: 4, 2709: 4, 2717: 4, 2719: 4, 2723: 4, 2726: 4, 2746: 4, 2749: 4, 2753: 4, 2801: 4, 2805: 4, 2820: 4, 2835: 4, 2850: 4, 2859: 4, 2884: 4, 2890: 4, 2891: 4, 2897: 4, 2902: 4, 2903: 4, 2904: 4, 2914: 4, 2927: 4, 2936: 4, 2940: 4, 2941: 4, 2945: 4, 2947: 4, 2956: 4, 3000: 4, 3013: 4, 3018: 4, 3045: 4, 3052: 4, 3057: 4, 3072: 4, 3093: 4, 3105: 4, 3112: 4, 3114: 4, 3119: 4, 3121: 4, 3138: 4, 3143: 4, 3147: 4, 3157: 4, 3164: 4, 3170: 4, 20: 3, 39: 3, 40: 3, 48: 3, 58: 3, 63: 3, 68: 3, 70: 3, 76: 3, 78: 3, 92: 3, 96: 3, 103: 3, 104: 3, 106: 3, 111: 3, 116: 3, 123: 3, 124: 3, 146: 3, 185: 3, 200: 3, 201: 3, 205: 3, 222: 3, 236: 3, 241: 3, 243: 3, 252: 3, 265: 3, 274: 3, 278: 3, 281: 3, 282: 3, 284: 3, 298: 3, 300: 3, 321: 3, 322: 3, 329: 3, 332: 3, 335: 3, 371: 3, 396: 3, 409: 3, 414: 3, 440: 3, 441: 3, 462: 3, 479: 3, 483: 3, 485: 3, 492: 3, 495: 3, 497: 3, 507: 3, 527: 3, 531: 3, 536: 3, 554: 3, 558: 3, 585: 3, 595: 3, 596: 3, 605: 3, 615: 3, 616: 3, 618: 3, 619: 3, 626: 3, 630: 3, 637: 3, 641: 3, 670: 3, 675: 3, 677: 3, 678: 3, 679: 3, 684: 3, 693: 3, 695: 3, 696: 3, 699: 3, 708: 3, 717: 3, 718: 3, 719: 3, 724: 3, 727: 3, 730: 3, 731: 3, 755: 3, 759: 3, 775: 3, 776: 3, 780: 3, 796: 3, 799: 3, 822: 3, 824: 3, 825: 3, 831: 3, 849: 3, 850: 3, 851: 3, 854: 3, 856: 3, 857: 3, 858: 3, 865: 3, 867: 3, 887: 3, 891: 3, 892: 3, 893: 3, 894: 3, 940: 3, 942: 3, 944: 3, 949: 3, 951: 3, 961: 3, 962: 3, 964: 3, 971: 3, 972: 3, 973: 3, 974: 3, 980: 3, 981: 3, 1002: 3, 1003: 3, 1012: 3, 1013: 3, 1014: 3, 1015: 3, 1025: 3, 1026: 3, 1030: 3, 1032: 3, 1034: 3, 1035: 3, 1043: 3, 1044: 3, 1046: 3, 1048: 3, 1049: 3, 1052: 3, 1062: 3, 1066: 3, 1067: 3, 1070: 3, 1071: 3, 1083: 3, 1088: 3, 1098: 3, 1099: 3, 1108: 3, 1110: 3, 1111: 3, 1112: 3, 1113: 3, 1114: 3, 1120: 3, 1121: 3, 1122: 3, 1135: 3, 1143: 3, 1144: 3, 1145: 3, 1146: 3, 1149: 3, 1154: 3, 1159: 3, 1160: 3, 1161: 3, 1162: 3, 1163: 3, 1164: 3, 1167: 3, 1168: 3, 1169: 3, 1170: 3, 1171: 3, 1172: 3, 1173: 3, 1179: 3, 1180: 3, 1182: 3, 1184: 3, 1186: 3, 1188: 3, 1194: 3, 1195: 3, 1196: 3, 1197: 3, 1199: 3, 1200: 3, 1206: 3, 1210: 3, 1211: 3, 1214: 3, 1215: 3, 1216: 3, 1223: 3, 1224: 3, 1225: 3, 1226: 3, 1235: 3, 1236: 3, 1237: 3, 1238: 3, 1247: 3, 1248: 3, 1252: 3, 1253: 3, 1255: 3, 1257: 3, 1258: 3, 1263: 3, 1264: 3, 1267: 3, 1270: 3, 1271: 3, 1272: 3, 1273: 3, 1278: 3, 1281: 3, 1282: 3, 1288: 3, 1292: 3, 1294: 3, 1295: 3, 1304: 3, 1305: 3, 1307: 3, 1309: 3, 1314: 3, 1315: 3, 1323: 3, 1324: 3, 1325: 3, 1326: 3, 1327: 3, 1331: 3, 1332: 3, 1333: 3, 1337: 3, 1341: 3, 1344: 3, 1345: 3, 1346: 3, 1347: 3, 1348: 3, 1349: 3, 1352: 3, 1353: 3, 1358: 3, 1363: 3, 1364: 3, 1365: 3, 1366: 3, 1368: 3, 1370: 3, 1379: 3, 1380: 3, 1381: 3, 1382: 3, 1384: 3, 1385: 3, 1387: 3, 1388: 3, 1389: 3, 1390: 3, 1391: 3, 1392: 3, 1393: 3, 1394: 3, 1395: 3, 1396: 3, 1397: 3, 1401: 3, 1404: 3, 1410: 3, 1411: 3, 1412: 3, 1413: 3, 1415: 3, 1416: 3, 1417: 3, 1420: 3, 1424: 3, 1425: 3, 1426: 3, 1427: 3, 1428: 3, 1430: 3, 1433: 3, 1435: 3, 1438: 3, 1439: 3, 1440: 3, 1441: 3, 1443: 3, 1445: 3, 1453: 3, 1455: 3, 1457: 3, 1458: 3, 1459: 3, 1460: 3, 1462: 3, 1463: 3, 1464: 3, 1465: 3, 1467: 3, 1469: 3, 1470: 3, 1471: 3, 1472: 3, 1473: 3, 1474: 3, 1475: 3, 1477: 3, 1482: 3, 1483: 3, 1484: 3, 1485: 3, 1486: 3, 1487: 3, 1489: 3, 1491: 3, 1495: 3, 1496: 3, 1497: 3, 1502: 3, 1503: 3, 1504: 3, 1505: 3, 1506: 3, 1516: 3, 1517: 3, 1518: 3, 1519: 3, 1524: 3, 1527: 3, 1528: 3, 1529: 3, 1531: 3, 1533: 3, 1534: 3, 1535: 3, 1540: 3, 1541: 3, 1542: 3, 1543: 3, 1544: 3, 1548: 3, 1549: 3, 1550: 3, 1552: 3, 1553: 3, 1554: 3, 1565: 3, 1566: 3, 1568: 3, 1570: 3, 1572: 3, 1579: 3, 1589: 3, 1591: 3, 1594: 3, 1595: 3, 1601: 3, 1602: 3, 1604: 3, 1605: 3, 1608: 3, 1609: 3, 1612: 3, 1613: 3, 1615: 3, 1616: 3, 1620: 3, 1621: 3, 1622: 3, 1623: 3, 1626: 3, 1627: 3, 1628: 3, 1629: 3, 1630: 3, 1632: 3, 1634: 3, 1636: 3, 1637: 3, 1638: 3, 1641: 3, 1642: 3, 1645: 3, 1647: 3, 1649: 3, 1650: 3, 1651: 3, 1653: 3, 1654: 3, 1659: 3, 1660: 3, 1664: 3, 1665: 3, 1671: 3, 1675: 3, 1676: 3, 1677: 3, 1678: 3, 1679: 3, 1680: 3, 1682: 3, 1685: 3, 1686: 3, 1693: 3, 1695: 3, 1697: 3, 1698: 3, 1699: 3, 1700: 3, 1703: 3, 1707: 3, 1709: 3, 1710: 3, 1711: 3, 1712: 3, 1717: 3, 1719: 3, 1720: 3, 1722: 3, 1724: 3, 1727: 3, 1728: 3, 1739: 3, 1741: 3, 1743: 3, 1744: 3, 1745: 3, 1748: 3, 1749: 3, 1750: 3, 1751: 3, 1752: 3, 1753: 3, 1754: 3, 1758: 3, 1764: 3, 1765: 3, 1766: 3, 1767: 3, 1768: 3, 1769: 3, 1770: 3, 1771: 3, 1774: 3, 1781: 3, 1783: 3, 1784: 3, 1786: 3, 1787: 3, 1788: 3, 1792: 3, 1796: 3, 1805: 3, 1807: 3, 1808: 3, 1809: 3, 1811: 3, 1824: 3, 1825: 3, 1826: 3, 1827: 3, 1828: 3, 1829: 3, 1835: 3, 1836: 3, 1843: 3, 1847: 3, 1852: 3, 1853: 3, 1854: 3, 1856: 3, 1860: 3, 1861: 3, 1862: 3, 1867: 3, 1868: 3, 1869: 3, 1875: 3, 1878: 3, 1879: 3, 1884: 3, 1886: 3, 1887: 3, 1888: 3, 1889: 3, 1890: 3, 1891: 3, 1900: 3, 1901: 3, 1905: 3, 1906: 3, 1908: 3, 1910: 3, 1915: 3, 1916: 3, 1924: 3, 1926: 3, 1927: 3, 1928: 3, 1929: 3, 1930: 3, 1932: 3, 1933: 3, 1937: 3, 1938: 3, 1945: 3, 1946: 3, 1947: 3, 1951: 3, 1952: 3, 1957: 3, 1960: 3, 1962: 3, 1974: 3, 1975: 3, 1976: 3, 1978: 3, 1988: 3, 1989: 3, 1998: 3, 1999: 3, 2000: 3, 2015: 3, 2016: 3, 2017: 3, 2020: 3, 2030: 3, 2033: 3, 2034: 3, 2035: 3, 2042: 3, 2046: 3, 2047: 3, 2048: 3, 2050: 3, 2051: 3, 2052: 3, 2054: 3, 2059: 3, 2061: 3, 2064: 3, 2065: 3, 2077: 3, 2079: 3, 2080: 3, 2082: 3, 2091: 3, 2092: 3, 2094: 3, 2095: 3, 2096: 3, 2097: 3, 2105: 3, 2106: 3, 2107: 3, 2109: 3, 2110: 3, 2111: 3, 2112: 3, 2113: 3, 2114: 3, 2120: 3, 2125: 3, 2126: 3, 2127: 3, 2135: 3, 2137: 3, 2138: 3, 2139: 3, 2140: 3, 2141: 3, 2142: 3, 2144: 3, 2145: 3, 2147: 3, 2150: 3, 2151: 3, 2152: 3, 2153: 3, 2154: 3, 2155: 3, 2162: 3, 2163: 3, 2164: 3, 2166: 3, 2167: 3, 2168: 3, 2169: 3, 2175: 3, 2176: 3, 2181: 3, 2185: 3, 2187: 3, 2188: 3, 2195: 3, 2201: 3, 2202: 3, 2204: 3, 2208: 3, 2210: 3, 2211: 3, 2215: 3, 2216: 3, 2217: 3, 2218: 3, 2219: 3, 2226: 3, 2227: 3, 2228: 3, 2229: 3, 2230: 3, 2231: 3, 2232: 3, 2233: 3, 2245: 3, 2246: 3, 2247: 3, 2248: 3, 2251: 3, 2252: 3, 2254: 3, 2261: 3, 2265: 3, 2266: 3, 2268: 3, 2273: 3, 2274: 3, 2276: 3, 2277: 3, 2283: 3, 2286: 3, 2287: 3, 2297: 3, 2298: 3, 2299: 3, 2300: 3, 2301: 3, 2302: 3, 2303: 3, 2304: 3, 2305: 3, 2306: 3, 2308: 3, 2310: 3, 2311: 3, 2313: 3, 2314: 3, 2317: 3, 2319: 3, 2321: 3, 2322: 3, 2323: 3, 2324: 3, 2325: 3, 2340: 3, 2341: 3, 2342: 3, 2344: 3, 2354: 3, 2355: 3, 2358: 3, 2359: 3, 2366: 3, 2369: 3, 2370: 3, 2373: 3, 2375: 3, 2376: 3, 2377: 3, 2378: 3, 2379: 3, 2380: 3, 2383: 3, 2388: 3, 2389: 3, 2395: 3, 2398: 3, 2399: 3, 2401: 3, 2406: 3, 2408: 3, 2419: 3, 2420: 3, 2421: 3, 2423: 3, 2424: 3, 2426: 3, 2433: 3, 2434: 3, 2435: 3, 2437: 3, 2451: 3, 2452: 3, 2453: 3, 2456: 3, 2457: 3, 2463: 3, 2470: 3, 2471: 3, 2480: 3, 2482: 3, 2484: 3, 2485: 3, 2486: 3, 2488: 3, 2493: 3, 2494: 3, 2496: 3, 2497: 3, 2499: 3, 2500: 3, 2501: 3, 2505: 3, 2513: 3, 2515: 3, 2516: 3, 2517: 3, 2519: 3, 2523: 3, 2524: 3, 2526: 3, 2534: 3, 2535: 3, 2536: 3, 2537: 3, 2538: 3, 2541: 3, 2543: 3, 2545: 3, 2547: 3, 2554: 3, 2557: 3, 2559: 3, 2567: 3, 2568: 3, 2579: 3, 2581: 3, 2592: 3, 2595: 3, 2596: 3, 2597: 3, 2604: 3, 2605: 3, 2606: 3, 2610: 3, 2619: 3, 2621: 3, 2622: 3, 2623: 3, 2624: 3, 2625: 3, 2626: 3, 2627: 3, 2628: 3, 2629: 3, 2631: 3, 2632: 3, 2634: 3, 2643: 3, 2644: 3, 2645: 3, 2646: 3, 2649: 3, 2650: 3, 2651: 3, 2652: 3, 2656: 3, 2665: 3, 2668: 3, 2679: 3, 2680: 3, 2681: 3, 2682: 3, 2683: 3, 2684: 3, 2686: 3, 2687: 3, 2695: 3, 2697: 3, 2698: 3, 2699: 3, 2700: 3, 2701: 3, 2702: 3, 2703: 3, 2705: 3, 2707: 3, 2710: 3, 2711: 3, 2714: 3, 2715: 3, 2718: 3, 2720: 3, 2721: 3, 2722: 3, 2727: 3, 2730: 3, 2732: 3, 2734: 3, 2739: 3, 2740: 3, 2742: 3, 2744: 3, 2750: 3, 2751: 3, 2754: 3, 2764: 3, 2765: 3, 2767: 3, 2769: 3, 2770: 3, 2771: 3, 2772: 3, 2776: 3, 2777: 3, 2780: 3, 2784: 3, 2785: 3, 2786: 3, 2787: 3, 2794: 3, 2795: 3, 2798: 3, 2799: 3, 2800: 3, 2802: 3, 2804: 3, 2806: 3, 2807: 3, 2808: 3, 2809: 3, 2810: 3, 2812: 3, 2813: 3, 2815: 3, 2816: 3, 2817: 3, 2822: 3, 2823: 3, 2827: 3, 2828: 3, 2829: 3, 2832: 3, 2834: 3, 2836: 3, 2837: 3, 2838: 3, 2840: 3, 2841: 3, 2842: 3, 2843: 3, 2845: 3, 2846: 3, 2847: 3, 2849: 3, 2851: 3, 2855: 3, 2856: 3, 2857: 3, 2858: 3, 2860: 3, 2862: 3, 2863: 3, 2864: 3, 2865: 3, 2866: 3, 2868: 3, 2870: 3, 2871: 3, 2873: 3, 2876: 3, 2878: 3, 2880: 3, 2882: 3, 2883: 3, 2885: 3, 2886: 3, 2887: 3, 2888: 3, 2889: 3, 2893: 3, 2894: 3, 2896: 3, 2898: 3, 2900: 3, 2901: 3, 2905: 3, 2906: 3, 2907: 3, 2911: 3, 2912: 3, 2913: 3, 2916: 3, 2918: 3, 2919: 3, 2920: 3, 2921: 3, 2924: 3, 2925: 3, 2926: 3, 2928: 3, 2930: 3, 2931: 3, 2932: 3, 2937: 3, 2938: 3, 2939: 3, 2943: 3, 2948: 3, 2949: 3, 2950: 3, 2951: 3, 2953: 3, 2954: 3, 2955: 3, 2957: 3, 2958: 3, 2959: 3, 2961: 3, 2963: 3, 2967: 3, 2968: 3, 2969: 3, 2970: 3, 2971: 3, 2972: 3, 2977: 3, 2978: 3, 2979: 3, 2981: 3, 2983: 3, 2986: 3, 2989: 3, 2990: 3, 2991: 3, 2993: 3, 2994: 3, 2995: 3, 2996: 3, 2998: 3, 2999: 3, 3001: 3, 3002: 3, 3003: 3, 3004: 3, 3006: 3, 3008: 3, 3009: 3, 3010: 3, 3011: 3, 3014: 3, 3016: 3, 3020: 3, 3021: 3, 3022: 3, 3023: 3, 3024: 3, 3025: 3, 3026: 3, 3027: 3, 3028: 3, 3030: 3, 3031: 3, 3032: 3, 3033: 3, 3035: 3, 3036: 3, 3037: 3, 3038: 3, 3039: 3, 3040: 3, 3041: 3, 3042: 3, 3047: 3, 3048: 3, 3049: 3, 3050: 3, 3053: 3, 3054: 3, 3058: 3, 3060: 3, 3064: 3, 3065: 3, 3066: 3, 3067: 3, 3068: 3, 3069: 3, 3073: 3, 3074: 3, 3075: 3, 3077: 3, 3078: 3, 3080: 3, 3081: 3, 3082: 3, 3084: 3, 3085: 3, 3086: 3, 3087: 3, 3088: 3, 3090: 3, 3092: 3, 3096: 3, 3097: 3, 3101: 3, 3103: 3, 3104: 3, 3106: 3, 3107: 3, 3108: 3, 3109: 3, 3110: 3, 3111: 3, 3113: 3, 3115: 3, 3116: 3, 3117: 3, 3118: 3, 3120: 3, 3127: 3, 3129: 3, 3130: 3, 3131: 3, 3132: 3, 3133: 3, 3134: 3, 3135: 3, 3136: 3, 3139: 3, 3140: 3, 3141: 3, 3142: 3, 3144: 3, 3145: 3, 3146: 3, 3148: 3, 3149: 3, 3150: 3, 3151: 3, 3152: 3, 3153: 3, 3154: 3, 3160: 3, 3163: 3, 3165: 3, 3166: 3, 3171: 3, 3172: 3, 3173: 3, 3175: 3, 3177: 3, 3179: 3, 3180: 3, 3181: 3, 3182: 3, 3183: 3, 3185: 3, 3188: 3, 3189: 3, 3190: 3, 3191: 3, 3192: 3, 3195: 3, 3196: 3, 3197: 3, 3198: 3, 3199: 3, 3200: 3, 3201: 3, 3202: 3, 3203: 3, 3204: 3, 3124: 2, 9: 1, 38: 1, 56: 1, 66: 1, 170: 1, 229: 1, 230: 1, 231: 1, 267: 1, 380: 1, 721: 1, 794: 1, 986: 1, 990: 1, 1006: 1, 1050: 1, 1086: 1, 1233: 1, 1251: 1, 1289: 1, 1351: 1, 1508: 1, 1656: 1, 1673: 1, 1756: 1, 1772: 1, 1922: 1, 2006: 1, 2108: 1, 2128: 1, 2207: 1, 2220: 1, 2320: 1, 2518: 1, 3158: 1, 8: 1, 316: 1, 2192: 1, 2476: 1, 2910: 1, 2980: 1, 4: 1, 7: 1, 10: 1, 13: 1, 19: 1, 929: 1, 18: 1, 75: 1, 93: 1, 120: 1, 202: 1, 1231: 1, 1644: 1, 1657: 1, 1683: 1, 1972: 1, 2001: 1, 2449: 1, 2454: 1, 2544: 1, 2571: 1, 2576: 1, 2618: 1, 2768: 1, 3055: 1, 3079: 1}\n"
     ]
    }
   ],
   "source": [
    "query = \"propose,equivalent,glossary,simple\"\n",
    "ding = bow_search(query,2)\n",
    "\n",
    "print(ding)\n"
   ]
  },
  {
   "cell_type": "markdown",
   "metadata": {},
   "source": [
    "*Answer the following questions*: \n",
    "- The BOW model is might not be a good choice for use in IR. Why? \n",
    "    - *TODO: Answer this!*"
   ]
  },
  {
   "cell_type": "code",
   "execution_count": 48,
   "metadata": {},
   "outputs": [
    {
     "ename": "TypeError",
     "evalue": "unhashable type: 'slice'",
     "output_type": "error",
     "traceback": [
      "\u001b[1;31m---------------------------------------------------------------------------\u001b[0m",
      "\u001b[1;31mTypeError\u001b[0m                                 Traceback (most recent call last)",
      "\u001b[1;32m<ipython-input-48-4bdc47b47464>\u001b[0m in \u001b[0;36m<module>\u001b[1;34m\u001b[0m\n\u001b[0;32m      6\u001b[0m         \u001b[0mprint\u001b[0m\u001b[1;33m(\u001b[0m\u001b[1;34mf\"Rank {i}({score:.2}): {doc_content}\"\u001b[0m\u001b[1;33m)\u001b[0m\u001b[1;33m\u001b[0m\u001b[1;33m\u001b[0m\u001b[0m\n\u001b[0;32m      7\u001b[0m \u001b[1;33m\u001b[0m\u001b[0m\n\u001b[1;32m----> 8\u001b[1;33m \u001b[0mtest_bow\u001b[0m \u001b[1;33m=\u001b[0m \u001b[0mbow_search\u001b[0m\u001b[1;33m(\u001b[0m\u001b[1;34m\"report\"\u001b[0m\u001b[1;33m,\u001b[0m \u001b[0mindex_set\u001b[0m\u001b[1;33m=\u001b[0m\u001b[1;36m1\u001b[0m\u001b[1;33m)\u001b[0m\u001b[1;33m[\u001b[0m\u001b[1;33m:\u001b[0m\u001b[1;36m5\u001b[0m\u001b[1;33m]\u001b[0m\u001b[1;33m\u001b[0m\u001b[1;33m\u001b[0m\u001b[0m\n\u001b[0m\u001b[0;32m      9\u001b[0m \u001b[0mprint\u001b[0m\u001b[1;33m(\u001b[0m\u001b[1;34mf\"BOW Results:\"\u001b[0m\u001b[1;33m)\u001b[0m\u001b[1;33m\u001b[0m\u001b[1;33m\u001b[0m\u001b[0m\n\u001b[0;32m     10\u001b[0m \u001b[0mprint_results\u001b[0m\u001b[1;33m(\u001b[0m\u001b[0mtest_bow\u001b[0m\u001b[1;33m)\u001b[0m\u001b[1;33m\u001b[0m\u001b[1;33m\u001b[0m\u001b[0m\n",
      "\u001b[1;31mTypeError\u001b[0m: unhashable type: 'slice'"
     ]
    }
   ],
   "source": [
    "####\n",
    "docs_by_id = dict(docs)\n",
    "def print_results(docs, len_limit=50):    \n",
    "    for i, (doc_id, score) in enumerate(docs):\n",
    "        doc_content = docs_by_id[doc_id].strip().replace(\"\\n\", \"\\\\n\")[:len_limit] + \"...\"\n",
    "        print(f\"Rank {i}({score:.2}): {doc_content}\")\n",
    "\n",
    "test_bow = bow_search(\"report\", index_set=1)[:5]\n",
    "print(f\"BOW Results:\")\n",
    "print_results(test_bow)\n",
    "#### "
   ]
  },
  {
   "cell_type": "markdown",
   "metadata": {},
   "source": [
    "Before we implement the tf-idf scoring functions, let's first write a function to compute the document frequencies of all words.  "
   ]
  },
  {
   "cell_type": "code",
   "execution_count": null,
   "metadata": {},
   "outputs": [],
   "source": [
    "# TODO: Implement this! (5 points)\n",
    "def compute_df(documents):\n",
    "    \"\"\"\n",
    "        Compute the document frequency of all terms in the vocabulary\n",
    "        Input: A list of documents\n",
    "        Output: A dictionary with {token: document frequency)\n",
    "    \"\"\"\n",
    "    raise NotImplementedError()\n",
    "\n",
    "\n",
    "\n",
    "# get the document frequencies of each document\n",
    "df_1 = compute_df([d[1] for d in doc_repr_1])\n",
    "df_2 = compute_df([d[1] for d in doc_repr_2])\n",
    "\n",
    "def get_df(index_set):\n",
    "    assert index_set in {1, 2}\n",
    "    return {\n",
    "        1: df_1,\n",
    "        2: df_2\n",
    "    }[index_set]"
   ]
  },
  {
   "cell_type": "markdown",
   "metadata": {},
   "source": [
    "Next, implement a function that computes a tf-idf score given a query.      "
   ]
  },
  {
   "cell_type": "code",
   "execution_count": null,
   "metadata": {},
   "outputs": [],
   "source": [
    "# TODO: Implement this! 10 points\n",
    "def tfidf_search(query, index_set):\n",
    "    \"\"\"\n",
    "        Perform a search over all documents with the given query using tf-idf. \n",
    "        Note #1: You have to use the `get_index` (and the `get_df`) function created in the previous cells\n",
    "        Input: \n",
    "            query - a (unprocessed) query\n",
    "            index_set - the index to use\n",
    "        Output: a list of (document_id, score), sorted in descending relevance to the given query \n",
    "    \"\"\"\n",
    "    raise NotImplementedError()"
   ]
  },
  {
   "cell_type": "code",
   "execution_count": null,
   "metadata": {},
   "outputs": [],
   "source": [
    "####\n",
    "test_tfidf = tfidf_search(\"report\", index_set=1)[:5]\n",
    "print(f\"TFIDF Results:\")\n",
    "print_results(test_tfidf)\n",
    "####"
   ]
  },
  {
   "cell_type": "markdown",
   "metadata": {},
   "source": [
    "*Answer the following questions*: \n",
    "- It is generally not advisable to use the naive version of tf-idf. Why?\n",
    "    - *TODO: Answer this!*\n",
    "- Illustrate with an example why using a sublinear scaling for TF is preferable in some cases.  \n",
    "    - *TODO: Answer this!*"
   ]
  },
  {
   "cell_type": "markdown",
   "metadata": {},
   "source": [
    "--- \n",
    "\n",
    "*Answer the following questions*: \n",
    "- An alternative way to compute a query<>document score is to vectorize both the query and document (where each dimension corresponds to a token), and compute a score. The score can be computed using a dot product between the query and the document vectors. Why is the cosine similary function a better choice, particularly in IR? \n",
    "    - *TODO: Answer this!*\n",
    "- What is the time complexity of a search if we are using the vector space method mentioned in the previous question? What is the time complexity if we're using an index (assume that it fits in memory)? Assume $N$ is the number of documents and $|q|$ is the length of a query. \n",
    "    - *TODO: Answer this!*"
   ]
  },
  {
   "cell_type": "markdown",
   "metadata": {},
   "source": [
    "--- \n",
    "\n",
    "#### Query Likelihood Models\n",
    "\n",
    "In this section you will implement a simple query likelihood model. \n",
    "\n",
    "First, let use implement a naive version of a QL model, assuming a multinomial unigram language model (with a uniform prior over the documents). \n",
    "\n",
    "**Note:** Make sure you use the `get_index` function to retrieve the correct index, and call `preprocess_query` with the correct index!\n",
    "\n",
    "--- \n",
    "\n",
    "*Answer the following questions*: \n",
    "- Write down the formula for computing the query likelihood, assuming a multinomial unigram language model. \n",
    "    - *TODO: Answer this!*\n",
    "- What problem does this naive method have? Suggest a simple way to fix it.\n",
    "    - *TODO: Answer this!*"
   ]
  },
  {
   "cell_type": "code",
   "execution_count": null,
   "metadata": {},
   "outputs": [],
   "source": [
    "####\n",
    "def doc_lengths(documents):\n",
    "    doc_lengths = {doc_id:len(doc) for (doc_id, doc) in documents}\n",
    "    return doc_lengths\n",
    "\n",
    "doc_lengths_1 = doc_lengths(doc_repr_1)\n",
    "doc_lengths_2 = doc_lengths(doc_repr_2)\n",
    "\n",
    "def get_doc_lengths(index_set):\n",
    "    assert index_set in {1, 2}\n",
    "    return {\n",
    "        1: doc_lengths_1,\n",
    "        2: doc_lengths_2\n",
    "    }[index_set]\n",
    "####"
   ]
  },
  {
   "cell_type": "code",
   "execution_count": null,
   "metadata": {},
   "outputs": [],
   "source": [
    "\n",
    "# TODO: Implement this! 15 points\n",
    "def naive_ql_search(query, index_set):\n",
    "    \"\"\"\n",
    "        Perform a search over all documents with the given query using a naive QL model. \n",
    "        Note #1: You have to use the `get_index` (and get_doc_lengths) function created in the previous cells\n",
    "        Input: \n",
    "            query - a (unprocessed) query\n",
    "            index_set - the index to use\n",
    "        Output: a list of (document_id, score), sorted in descending relevance to the given query \n",
    "    \"\"\"\n",
    "    raise NotImplementedError()"
   ]
  },
  {
   "cell_type": "code",
   "execution_count": null,
   "metadata": {},
   "outputs": [],
   "source": [
    "####\n",
    "test_naiveql = naive_ql_search(\"report\", index_set=1)[:5]\n",
    "print(f\"TFIDF Results:\")\n",
    "print_results(test_naiveql)\n",
    "####"
   ]
  },
  {
   "cell_type": "markdown",
   "metadata": {},
   "source": [
    "Now, let's implement a (slightly more) complex QL model. This model should 'fix' the issue with the previous method. If your model requires hyperparameters, set a reasonable value. "
   ]
  },
  {
   "cell_type": "code",
   "execution_count": null,
   "metadata": {},
   "outputs": [],
   "source": [
    "# TODO: Implement this! 20 points\n",
    "def ql_search(query, index_set):\n",
    "    \"\"\"\n",
    "        Perform a search over all documents with the given query using a appropriate QL model. \n",
    "        Note #1: You have to use the `get_index` (and get_doc_lengths) function created in the previous cells\n",
    "        Note #2: You might have to create some variables beforehand and use them in this function\n",
    "        Input: \n",
    "            query - a (unprocessed) query\n",
    "            index_set - the index to use\n",
    "        Output: a list of (document_id, score), sorted in descending relevance to the given query \n",
    "    \"\"\"\n",
    "    raise NotImplementedError()"
   ]
  },
  {
   "cell_type": "code",
   "execution_count": null,
   "metadata": {},
   "outputs": [],
   "source": [
    "#### Test the QL model\n",
    "test_ql_results = ql_search(\"report\", index_set=1)[:5]\n",
    "print_results(test_ql_results)\n",
    "print()\n",
    "test_ql_results_long = ql_search(\"report \" * 10, index_set=1)[:5]\n",
    "print_results(test_ql_results_long)\n",
    "####"
   ]
  },
  {
   "cell_type": "markdown",
   "metadata": {},
   "source": [
    "*Answer the following questions*: \n",
    "- What happens to the query likelihood for long queries? What is a simple fix for this issue?\n",
    "    - *TODO: Answer this!*"
   ]
  },
  {
   "cell_type": "markdown",
   "metadata": {},
   "source": [
    "\n",
    "--- \n",
    "\n",
    "#### BM25\n",
    "\n",
    "In this section, we will implement the widely used and hard to beat BM25 scoring function. \n"
   ]
  },
  {
   "cell_type": "code",
   "execution_count": null,
   "metadata": {},
   "outputs": [],
   "source": [
    "# TODO: Implement this! (20 points)\n",
    "def bm25_search(query, index_set):\n",
    "    \"\"\"\n",
    "        Perform a search over all documents with the given query using BM25. \n",
    "        Note #1: You have to use the `get_index` (and `get_doc_lengths`) function created in the previous cells\n",
    "        Note #2: You might have to create some variables beforehand and use them in this function\n",
    "        Input: \n",
    "            query - a (unprocessed) query\n",
    "            index_set - the index to use\n",
    "        Output: a list of (document_id, score), sorted in descending relevance to the given query \n",
    "    \"\"\"\n",
    "    \n",
    "    raise NotImplementedError()"
   ]
  },
  {
   "cell_type": "code",
   "execution_count": null,
   "metadata": {},
   "outputs": [],
   "source": [
    "#### Test the BM25 model\n",
    "test_bm25_results = bm25_search(\"report\", index_set=1)[:5]\n",
    "print_results(test_bm25_results)\n",
    "####"
   ]
  },
  {
   "cell_type": "markdown",
   "metadata": {},
   "source": [
    "\n",
    "\n",
    "*Answer the following questions*: \n",
    "- Briefly explain how the BM25 model improves upon the tf-idf model.\n",
    "    - *TODO: Answer this!*\n",
    "    \n",
    "---"
   ]
  },
  {
   "cell_type": "code",
   "execution_count": null,
   "metadata": {},
   "outputs": [],
   "source": [
    "#### Highlighter function\n",
    "# class for results\n",
    "ResultRow = namedtuple(\"ResultRow\", [\"doc_id\", \"snippet\", \"score\"])\n",
    "# doc_id -> doc\n",
    "docs_by_id = dict((d[0], d[1]) for d in docs)\n",
    "\n",
    "def highlight_text(document, query, tol=17):\n",
    "    import re\n",
    "    tokens = tokenize(query)\n",
    "    regex = \"|\".join(f\"(\\\\b{t}\\\\b)\" for t in tokens)\n",
    "    regex = re.compile(regex, flags=re.IGNORECASE)\n",
    "    output = \"\"\n",
    "    i = 0\n",
    "    for m in regex.finditer(document):\n",
    "        start_idx = max(0, m.start() - tol)\n",
    "        end_idx = min(len(document), m.end() + tol)\n",
    "        output += \"\".join([\"...\",\n",
    "                        document[start_idx:m.start()],\n",
    "                        \"<strong>\",\n",
    "                        document[m.start():m.end()],\n",
    "                        \"</strong>\",\n",
    "                        document[m.end():end_idx],\n",
    "                        \"...\"])\n",
    "    return output.replace(\"\\n\", \" \")\n",
    "\n",
    "\n",
    "def make_results(query, search_fn, index_set):\n",
    "    results = []\n",
    "    for doc_id, score in search_fn(query, index_set):\n",
    "        highlight = highlight_text(docs_by_id[doc_id], query)\n",
    "        if len(highlight.strip()) == 0:\n",
    "            highlight = docs_by_id[doc_id]\n",
    "        results.append(ResultRow(doc_id, highlight, score))\n",
    "    return results\n",
    "####"
   ]
  },
  {
   "cell_type": "markdown",
   "metadata": {},
   "source": [
    "---\n",
    "---\n",
    "\n",
    "The widget below allows you to play with the search functions you've written so far. This can be used, for example, to answer some of the theory questions"
   ]
  },
  {
   "cell_type": "code",
   "execution_count": null,
   "metadata": {},
   "outputs": [],
   "source": [
    "# Set this to the function you want to test\n",
    "# this function should take in a query (string)\n",
    "# and return a sorted list of (doc_id, score) \n",
    "# with the most relevant document in the first position\n",
    "search_fn = bm25_search\n",
    "index_set = 1\n",
    "\n",
    "text = widgets.Text(description=\"Search Bar\", width=200)\n",
    "display(text)\n",
    "\n",
    "def handle_submit(sender):\n",
    "    print(f\"Searching for: '{sender.value}'\")\n",
    "    \n",
    "    results = make_results(sender.value, search_fn, index_set)\n",
    "    \n",
    "    # display only the top 5\n",
    "    results = results[:5]\n",
    "    \n",
    "    body = \"\"\n",
    "    for idx, r in enumerate(results):\n",
    "        body += f\"<li>Document #{r.doc_id}({r.score}): {r.snippet}</li>\"\n",
    "    display(HTML(f\"<ul>{body}</ul>\"))\n",
    "    \n",
    "\n",
    "text.on_submit(handle_submit)"
   ]
  },
  {
   "cell_type": "markdown",
   "metadata": {},
   "source": [
    "## Section 4: Offline Evaluation (45 points)\n",
    "\n",
    "Before we jump in and implement an algorithm for retrieval, we first have to learn how to evaluate such a system. In particular, we will work with offline evaluation metrics. These metrics are computed on a dataset with known relevance judgements.\n",
    "\n",
    "Implement the following evaluation metrics. \n",
    "\n",
    "1. Precision\n",
    "2. Recall\n",
    "3. Mean Average Precision\n",
    "4. Expected Reciprocal Rank\n",
    "\n",
    "---\n",
    "*Answer the following questions*: \n",
    "- What are the main limitations of an offline evaluation?\n",
    "    - *TODO: Answer this!*"
   ]
  },
  {
   "cell_type": "markdown",
   "metadata": {},
   "source": [
    "---\n",
    "\n",
    "Let's take a look at the `qrels.text` file, which contains the ground truth relevance scores. The relevance labels for CACM are binary - either 0 or 1. \n"
   ]
  },
  {
   "cell_type": "code",
   "execution_count": null,
   "metadata": {},
   "outputs": [],
   "source": [
    "!head ./datasets/qrels.text"
   ]
  },
  {
   "cell_type": "markdown",
   "metadata": {},
   "source": [
    "The first column is the `query_id` and the second column is the `document_id`. You can safely ignore the 3rd and 4th columns. Write a function to read in the file: "
   ]
  },
  {
   "cell_type": "code",
   "execution_count": null,
   "metadata": {},
   "outputs": [],
   "source": [
    "# TODO: Implement this!\n",
    "def read_qrels(root_folder = \"./datasets/\"):\n",
    "    \"\"\"\n",
    "        Reads the qrels.text file. \n",
    "        Output: A dictionary: query_id -> [list of relevant documents]\n",
    "    \"\"\"\n",
    "    raise NotImplementedError()\n",
    "\n",
    "qrels = read_qrels()"
   ]
  },
  {
   "cell_type": "code",
   "execution_count": null,
   "metadata": {},
   "outputs": [],
   "source": [
    "####\n",
    "assert len(qrels) == 52, \"There should be 52 queries with relevance judgements\"\n",
    "assert sum(len(j) for j in qrels.values()) == 796, \"There should be a total of 796 Relevance Judgements\"\n",
    "####"
   ]
  },
  {
   "cell_type": "markdown",
   "metadata": {},
   "source": [
    "Now, implement the metrics below. \n",
    "\n",
    "**Note:** For a given query `query_id`, you can assume that documents *not* in `qrels[query_id]` are not relevant to `query_id`. \n"
   ]
  },
  {
   "cell_type": "code",
   "execution_count": null,
   "metadata": {},
   "outputs": [],
   "source": [
    "# TODO: Implement this! (10 points)\n",
    "def recall_k(results, relevant_docs, k):\n",
    "    \"\"\"\n",
    "        Compute Recall@K\n",
    "        Input: \n",
    "            results: A sorted list of 2-tuples (document_id, score), with the most relevant document in the first position\n",
    "            relevant_docs: A set of relevant documents. \n",
    "            k: the cut-off\n",
    "        Output: Recall@K\n",
    "    \"\"\"\n",
    "    raise NotImplementedError()\n",
    "    \n",
    "# TODO: Implement this! (10 points)\n",
    "def precision_k(results, relevant_docs, k):\n",
    "    \"\"\"\n",
    "        Compute Precision@K\n",
    "        Input: \n",
    "            results: A sorted list of 2-tuples (document_id, score), \n",
    "                    with the most relevant document in the first position\n",
    "            relevant_docs: A set of relevant documents. \n",
    "            k: the cut-off\n",
    "        Output: Precision@K\n",
    "    \"\"\"\n",
    "    raise NotImplementedError()\n",
    "\n",
    "# TODO: Implement this! (10 points)\n",
    "def average_precision(results, relevant_docs):\n",
    "    \"\"\"\n",
    "        Compute Average Precision (for a single query - the results are \n",
    "        averaged across queries to get MAP in the next few cells)\n",
    "        Hint: You can use the recall_k and precision_k functions here!\n",
    "        Input: \n",
    "            results: A sorted list of 2-tuples (document_id, score), with the most \n",
    "                    relevant document in the first position\n",
    "            relevant_docs: A set of relevant documents. \n",
    "        Output: Average Precision\n",
    "    \"\"\"\n",
    "    raise NotImplementedError()\n",
    "\n",
    "\n",
    "# TODO: Implement this! (15 points)\n",
    "def err(results, relevant_docs):\n",
    "    \"\"\"\n",
    "        Compute the expected reciprocal rank.\n",
    "        Hint: https://dl.acm.org/doi/pdf/10.1145/1645953.1646033?download=true\n",
    "        Input: \n",
    "            results: A sorted list of 2-tuples (document_id, score), with the most \n",
    "                    relevant document in the first position\n",
    "            relevant_docs: A set of relevant documents. \n",
    "        Output: ERR\n",
    "        \n",
    "    \"\"\"\n",
    "    raise NotImplementedError()\n",
    "####"
   ]
  },
  {
   "cell_type": "markdown",
   "metadata": {},
   "source": [
    "*Answer the following questions*: \n",
    "- What are the main drawbacks of precision & recall?\n",
    "    - *TODO: Answer this!*\n",
    "- What problems with Precision@K does Average Precision solve? \n",
    "    - *TODO: Answer this!*\n",
    "- The CACM dataset has *binary* relevance judgements. However, a more suitable way of assigning judgements is to use graded relevance. Mention a metric which might be more suitable for a graded relevance, and breifly explain why. \n",
    "    - *TODO: Answer this!*\n",
    "- Consider a text processing step: stemming. What effect does this have on metrics? (Hint: Try changing the pre-processing config and try it out!)\n",
    "    - *TODO: Answer this!*"
   ]
  },
  {
   "cell_type": "markdown",
   "metadata": {},
   "source": [
    "---\n",
    "\n",
    "Let's define some metrics@k using [partial functions](https://docs.python.org/3/library/functools.html#functools.partial)"
   ]
  },
  {
   "cell_type": "code",
   "execution_count": null,
   "metadata": {},
   "outputs": [],
   "source": [
    "####\n",
    "recall_at_1 = partial(recall_k, k=1)\n",
    "recall_at_5 = partial(recall_k, k=5)\n",
    "recall_at_10 = partial(recall_k, k=10)\n",
    "precision_at_1 = partial(precision_k, k=1)\n",
    "precision_at_5 = partial(precision_k, k=5)\n",
    "precision_at_10 = partial(precision_k, k=10)\n",
    "####"
   ]
  },
  {
   "cell_type": "markdown",
   "metadata": {},
   "source": [
    "---\n",
    "\n",
    "The following function evaluates a `search_fn` using the `metric_fn`. Note that the final number is averaged over all the queries"
   ]
  },
  {
   "cell_type": "code",
   "execution_count": null,
   "metadata": {},
   "outputs": [],
   "source": [
    "####\n",
    "def evaluate_search_fn(search_fn, metric_fn, index_set):\n",
    "    # build a dict query_id -> query \n",
    "    queries_by_id = dict((q[0], q[1]) for q in queries)\n",
    "    \n",
    "    metrics = np.zeros(len(qrels), dtype=np.float32)\n",
    "    for i, (query_id, relevant_docs) in enumerate(qrels.items()):\n",
    "        query = queries_by_id[query_id]\n",
    "        results = search_fn(query, index_set)\n",
    "        metrics[i] = metric_fn(results, relevant_docs)\n",
    "    \n",
    "    return metrics.mean()\n",
    "####"
   ]
  },
  {
   "cell_type": "code",
   "execution_count": null,
   "metadata": {},
   "outputs": [],
   "source": [
    "index_sets = {1, 2}\n",
    "\n",
    "list_of_metrics = [\n",
    "    (\"ERR\", err),\n",
    "    (\"MAP\", average_precision),\n",
    "    (\"Recall@1\",recall_at_1),\n",
    "    (\"Recall@5\", recall_at_5),\n",
    "    (\"Recall@10\", recall_at_10),\n",
    "    (\"Precision@1\", precision_at_1),\n",
    "    (\"Precision@5\", precision_at_5),\n",
    "    (\"Precision@10\", precision_at_10)]\n",
    "\n",
    "list_of_search_fns = [\n",
    "    (\"NaiveQL\", ql_search),\n",
    "    (\"QL\", ql_search),\n",
    "    (\"BM25\", bm25_search),\n",
    "    (\"BOW\", bow_search),\n",
    "    (\"TF-IDF\", tfidf_search)\n",
    "]\n",
    "\n",
    "\n",
    "results = {}\n",
    "for index_set in index_sets:\n",
    "    print(f\"Index: {index_set}\")\n",
    "    for search_fn_name, search_fn in list_of_search_fns:\n",
    "        print(f\"\\tEvaluating Search Function: {search_fn_name}\")\n",
    "        results[search_fn_name] = {}\n",
    "        for metric_name, metric_fn in list_of_metrics:\n",
    "            r = evaluate_search_fn(search_fn, metric_fn, index_set).mean()\n",
    "            print(f\"\\t\\tMetric: {metric_name}: {r}\")\n",
    "            results[search_fn_name][metric_name] = r\n",
    "        print()"
   ]
  },
  {
   "cell_type": "markdown",
   "metadata": {},
   "source": [
    "## Section 5: Results and Analysis (20 points)\n",
    "\n",
    "The `results` dictionary contains the results for all search functions we implemented. Plot the results in bar charts, with clear labels:"
   ]
  },
  {
   "cell_type": "code",
   "execution_count": null,
   "metadata": {},
   "outputs": [],
   "source": [
    "# TODO: Implement this! (20 points)"
   ]
  },
  {
   "cell_type": "markdown",
   "metadata": {},
   "source": [
    "Write a summary of what you observe in the results.\n",
    "You summary should compare results across the 2 indices and the methods being used. State what you expected to see in the results, followed by either supporting evidence *or* justify why the results did not support your expectations.      \n",
    "*Hint*: You may build upon the answers from the previous sections. "
   ]
  },
  {
   "cell_type": "markdown",
   "metadata": {},
   "source": [
    "*TODO: Answer this!*"
   ]
  }
 ],
 "metadata": {
  "kernelspec": {
   "display_name": "Python 3",
   "language": "python",
   "name": "python3"
  },
  "language_info": {
   "codemirror_mode": {
    "name": "ipython",
    "version": 3
   },
   "file_extension": ".py",
   "mimetype": "text/x-python",
   "name": "python",
   "nbconvert_exporter": "python",
   "pygments_lexer": "ipython3",
   "version": "3.7.3"
  }
 },
 "nbformat": 4,
 "nbformat_minor": 4
}
