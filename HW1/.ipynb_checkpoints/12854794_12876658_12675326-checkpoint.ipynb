{
 "cells": [
  {
   "cell_type": "markdown",
   "metadata": {},
   "source": [
    "# Homework 1 (Total Points: 175)\n",
    "\n",
    "\n",
    "\n",
    "Learning Goals:\n",
    "- Learn how to load a dataset and process it.\n",
    "- Learn how to implement several IR methods (TFIDF, BM25, QL) and understand their weaknesses & strengths.\n",
    "- Learn how to evaluate IR methods\n",
    "\n",
    "\n",
    "**NOTE 1**: Only the code (`TODO: Implement this!` denotes these sections) is graded. The 'theory' questions in this assignment serve as a preparation for the exam and to facilitate a deeper understanding of the course content. These questions (denoted by `TODO: Answer this!`) have no points assigned to them, but **need** to be filled out before submission.  \n",
    "\n",
    "**NOTE 2**: You can use the `nltk`, `numpy` and `matplotlib` libraries here. Other libraries, e.g., `gensim` or `scikit-learn`, may not be used. \n",
    "\n",
    "**NOTE 3**: The notebook you submit has to have the student ids, seperated by underscores (E.g., `12341234_12341234_12341234.ipynb`). \n",
    "\n",
    "**NOTE 4**: Make sure to check that your notebook runs before submission. A quick way to do this is to restart the kernel and run all the cells.  \n",
    "\n",
    "---\n",
    "Additional Resources: \n",
    "-  Sections 2.3, 4.1, 4.2, 4.3, 5.3, 5.6, 5.7, 6.2, 7, 8 of [Search Engines: Information Retrieval in Practice](https://ciir.cs.umass.edu/downloads/SEIRiP.pdf)\n"
   ]
  },
  {
   "cell_type": "code",
   "execution_count": 1,
   "metadata": {},
   "outputs": [
    {
     "name": "stderr",
     "output_type": "stream",
     "text": [
      "/usr/lib/python3/dist-packages/IPython/html.py:14: ShimWarning: The `IPython.html` package has been deprecated since IPython 4.0. You should import from `notebook` instead. `IPython.html.widgets` has moved to `ipywidgets`.\n",
      "  \"`IPython.html.widgets` has moved to `ipywidgets`.\", ShimWarning)\n"
     ]
    }
   ],
   "source": [
    "# imports \n",
    "# TODO: Ensure that no additional library is imported in the notebook. \n",
    "# TODO: Only the standard library and the following libraries are allowed:\n",
    "\n",
    "import os\n",
    "import zipfile\n",
    "from functools import partial\n",
    "\n",
    "import nltk\n",
    "import requests\n",
    "import numpy as np\n",
    "from tqdm import tqdm\n",
    "\n",
    "import matplotlib.pyplot as plt\n",
    "\n",
    "from ipywidgets import widgets\n",
    "from IPython.display import display, HTML\n",
    "from IPython.html import widgets\n",
    "from collections import namedtuple\n",
    "\n",
    "%matplotlib inline"
   ]
  },
  {
   "cell_type": "markdown",
   "metadata": {},
   "source": [
    "## Section 1: Text Processing (20 points)\n",
    "\n",
    "In this section, we will load the dataset and learn how to clean up the data to make it usable for an IR system. \n",
    "\n",
    "We are using the [CACM dataset](http://ir.dcs.gla.ac.uk/resources/test_collections/cacm/), which is a small, classic IR dataset, composed of a collection of titles and abstracts from the journal CACM. It comes with relevance judgements for queries, so we can evaluate our IR system. \n",
    "\n",
    "The following cell downloads the dataset and unzips it to a local directory"
   ]
  },
  {
   "cell_type": "code",
   "execution_count": 2,
   "metadata": {},
   "outputs": [],
   "source": [
    "def download_dataset(folder_path = \"./datasets/\"):\n",
    "    \n",
    "    os.makedirs(folder_path, exist_ok=True)\n",
    "    \n",
    "    file_location = os.path.join(folder_path, \"cacm.zip\")\n",
    "    \n",
    "    # download file if it doesn't exist\n",
    "    if not os.path.exists(file_location):\n",
    "        \n",
    "        url = \"https://surfdrive.surf.nl/files/index.php/s/M0FGJpX2p8wDwxR/download\"\n",
    "\n",
    "        with open(file_location, \"wb\") as handle:\n",
    "            print(f\"Downloading file from {url} to {file_location}\")\n",
    "            response = requests.get(url, stream=True)\n",
    "            for data in tqdm(response.iter_content()):\n",
    "                handle.write(data)\n",
    "            print(\"Finished downloading file\")\n",
    "    \n",
    "    if not os.path.exists(os.path.join(folder_path, \"train.txt\")):\n",
    "        \n",
    "        # unzip file\n",
    "        with zipfile.ZipFile(file_location, 'r') as zip_ref:\n",
    "            zip_ref.extractall(folder_path)\n",
    "        \n",
    "download_dataset()"
   ]
  },
  {
   "cell_type": "markdown",
   "metadata": {},
   "source": [
    "You can see a brief description of each file in the dataset by looking at the README file"
   ]
  },
  {
   "cell_type": "code",
   "execution_count": 3,
   "metadata": {},
   "outputs": [
    {
     "name": "stdout",
     "output_type": "stream",
     "text": [
      "Files in this directory with sizes:\r\n",
      "          0 Jun 19 21:01 README\r\n",
      "\r\n",
      "    2187734 Jun 19 20:55 cacm.all              text of documents\r\n",
      "        626 Jun 19 20:58 cite.info             key to citation info\r\n",
      "                                                (the X sections in cacm.all)\r\n",
      "       2668 Jun 19 20:55 common_words           stop words used by smart\r\n",
      "       2194 Jun 19 20:55 make_coll*             shell script to make collection\r\n",
      "       1557 Jun 19 20:55 make_coll_term*        ditto (both useless without\r\n",
      "                                                smart system)\r\n",
      "       9948 Jun 19 20:55 qrels.text             relation giving\r\n",
      "                                                    qid did 0 0\r\n",
      "                                                to indicate dument did is\r\n",
      "                                                relevant to query qid\r\n",
      "      13689 Jun 19 20:55 query.text             Original text of the query\r\n"
     ]
    }
   ],
   "source": [
    "##### Read the README file \n",
    "!cat ./datasets/README\n",
    "#####"
   ]
  },
  {
   "cell_type": "markdown",
   "metadata": {},
   "source": [
    "----\n",
    "We are interested in 4 files:\n",
    "- `cacm.all` : Contains the text for all documents. Note that some documents do not have abstracts available. \n",
    "- `query.text` : The text of all queries\n",
    "- `qrels.text` : The relevance judgements\n",
    "- `common_words` : A list of common words. This may be used as a collection of stopwords"
   ]
  },
  {
   "cell_type": "code",
   "execution_count": 4,
   "metadata": {},
   "outputs": [
    {
     "name": "stdout",
     "output_type": "stream",
     "text": [
      ".I 1\r\n",
      ".T\r\n",
      "Preliminary Report-International Algebraic Language\r\n",
      ".B\r\n",
      "CACM December, 1958\r\n",
      ".A\r\n",
      "Perlis, A. J.\r\n",
      "Samelson,K.\r\n",
      ".N\r\n",
      "CA581203 JB March 22, 1978  8:28 PM\r\n",
      ".X\r\n",
      "100\t5\t1\r\n",
      "123\t5\t1\r\n",
      "164\t5\t1\r\n",
      "1\t5\t1\r\n",
      "1\t5\t1\r\n",
      "1\t5\t1\r\n",
      "205\t5\t1\r\n",
      "210\t5\t1\r\n",
      "214\t5\t1\r\n",
      "1982\t5\t1\r\n",
      "398\t5\t1\r\n",
      "642\t5\t1\r\n",
      "669\t5\t1\r\n",
      "1\t6\t1\r\n",
      "1\t6\t1\r\n",
      "1\t6\t1\r\n",
      "1\t6\t1\r\n",
      "1\t6\t1\r\n",
      "1\t6\t1\r\n",
      "1\t6\t1\r\n",
      "1\t6\t1\r\n",
      "1\t6\t1\r\n",
      "1\t6\t1\r\n",
      "165\t6\t1\r\n",
      "196\t6\t1\r\n",
      "196\t6\t1\r\n",
      "1273\t6\t1\r\n",
      "1883\t6\t1\r\n",
      "324\t6\t1\r\n",
      "43\t6\t1\r\n",
      "53\t6\t1\r\n",
      "91\t6\t1\r\n",
      "410\t6\t1\r\n",
      "3184\t6\t1\r\n"
     ]
    }
   ],
   "source": [
    "##### The first 45 lines of the CACM dataset forms the first record\n",
    "# We are interested only in 3 fields. \n",
    "# 1. the '.I' field, which is the document id\n",
    "# 2. the '.T' field (the title) and\n",
    "# 3. the '.W' field (the abstract, which may be absent)\n",
    "!head -45 ./datasets/cacm.all\n",
    "#####"
   ]
  },
  {
   "cell_type": "markdown",
   "metadata": {},
   "source": [
    "---\n",
    "\n",
    "Now, write a function to read in the `cacm.all` file. Note that each document has a variable number of lines. The `.I` field denotes a new document"
   ]
  },
  {
   "cell_type": "code",
   "execution_count": 5,
   "metadata": {},
   "outputs": [],
   "source": [
    "# TODO: Implement this! (4 points)\n",
    "def read_cacm_docs(root_folder = \"./datasets/\"):\n",
    "    \"\"\"\n",
    "        Reads in the CACM documents. The dataset is assumed to be in the folder \"./datasets/cacm\" be default\n",
    "        Returns: A list of 2-tuples: (doc_id, document), where 'document' is a single string created by \n",
    "            appending the title and abstract (seperated by a \"\\n\"). \n",
    "            In case the record doesn't have an abstract, the document is composed only by the title\n",
    "    \"\"\"\n",
    "    f = open(root_folder + \"cacm.all\", \"r\")\n",
    "\n",
    "    # Dummy val for first abstract\n",
    "    lijst = []\n",
    "    abstract = \"\"\n",
    "\n",
    "    # Split the line that's read\n",
    "    split = f.readline().split()\n",
    "\n",
    "    # Iterate over all entries in the ca\n",
    "    for i in range(100000):\n",
    "\n",
    "        # Append all current data if we encounter a .i again\n",
    "        #print(split)\n",
    "        if split[0] == \".I\":\n",
    "            if split[1] != str(1):\n",
    "                lijst.append((int(doc_id), t + \"\" + abstract))\n",
    "                t = \"\"\n",
    "                abstract = \"\"\n",
    "\n",
    "        # Check for index\n",
    "        if split[0] == \".I\":\n",
    "            doc_id = split[1]\n",
    "\n",
    "        # Check for Title\n",
    "        if split[0] == \".T\":\n",
    "            t = f.readline()\n",
    "\n",
    "        # Check for abstract\n",
    "        if split[0] == \".W\":\n",
    "\n",
    "            w = f.readline()\n",
    "            abstract = \"\"\n",
    "\n",
    "            while w.split()[0] != \".B\":\n",
    "                abstract += w + \" \"\n",
    "                w = f.readline()\n",
    "            #print(abstract)\n",
    "\n",
    "        # Split the line that's read\n",
    "        split = f.readline().split()\n",
    "        \n",
    "        # Break if we reach EOF\n",
    "        if not split:\n",
    "            break \n",
    "\n",
    "    lijst.append((int(doc_id), t + \"\" + abstract))\n",
    "\n",
    "    return lijst\n",
    "\n",
    "docs = read_cacm_docs()"
   ]
  },
  {
   "cell_type": "code",
   "execution_count": 6,
   "metadata": {},
   "outputs": [
    {
     "name": "stdout",
     "output_type": "stream",
     "text": [
      "3204\n"
     ]
    }
   ],
   "source": [
    "##### \n",
    "print(len(docs))\n",
    "assert len(docs) == 3204, \"There should be exactly 3024 documents\"\n",
    "##### "
   ]
  },
  {
   "cell_type": "markdown",
   "metadata": {},
   "source": [
    "---\n",
    "\n",
    "Next, let us read the queries. They are formatted similarly: "
   ]
  },
  {
   "cell_type": "code",
   "execution_count": 7,
   "metadata": {},
   "outputs": [
    {
     "name": "stdout",
     "output_type": "stream",
     "text": [
      ".I 1\r\n",
      ".W\r\n",
      " What articles exist which deal with TSS (Time Sharing System), an\r\n",
      "operating system for IBM computers?\r\n",
      ".N\r\n",
      " 1. Richard Alexander, Comp Serv, Langmuir Lab (TSS)\r\n",
      " \r\n",
      ".I 2\r\n",
      ".W\r\n",
      " I am interested in articles written either by Prieve or Udo Pooch\r\n",
      ".A\r\n",
      "Prieve, B.\r\n",
      "Pooch, U.\r\n",
      ".N\r\n",
      " 2. Richard Alexander, Comp Serv, Langmuir Lab (author = Pooch or Prieve)\r\n"
     ]
    }
   ],
   "source": [
    "##### The first 15 lines of 'query.text' has 2 queries\n",
    "# We are interested only in 2 fields. \n",
    "# 1. the '.I' - the query id\n",
    "# 2. the '.W' - the query\n",
    "# 3. the '.W' field (the abstract, which may be absent)\n",
    "!head -15 ./datasets/query.text\n",
    "#####"
   ]
  },
  {
   "cell_type": "markdown",
   "metadata": {},
   "source": [
    "---\n",
    "\n",
    "Now, write a function to read in this file:"
   ]
  },
  {
   "cell_type": "code",
   "execution_count": 8,
   "metadata": {},
   "outputs": [],
   "source": [
    "# TODO: Implement this! (3 points)\n",
    "def read_queries(root_folder = \"./datasets/\"):\n",
    "    \"\"\"\n",
    "        Reads in the CACM queries. The dataset is assumed to be in the folder \"./datasets/\" be default\n",
    "        Returns: A list of 2-tuples: (query_id, query)\n",
    "    \"\"\"\n",
    "    f = open(root_folder + \"query.text\", \"r\")\n",
    "\n",
    "    # Dummy val for first abstract\n",
    "    lijst = []\n",
    "    query = \"\"\n",
    "\n",
    "    # Split the line that's read\n",
    "    split = f.readline().split()\n",
    "\n",
    "    # Iterate over all entries in the ca\n",
    "    for i in range(100000):\n",
    "\n",
    "        # Append all current data if we encounter a .i again\n",
    "        #print(split)\n",
    "        if split[0] == \".I\":\n",
    "            if split[1] != str(1):\n",
    "                lijst.append((doc_id, query))\n",
    "                query = \"\"\n",
    "\n",
    "        # Check for index\n",
    "        if split[0] == \".I\":\n",
    "            doc_id = split[1]\n",
    "\n",
    "        # Check for abstract\n",
    "        if split[0] == \".W\":\n",
    "\n",
    "            w = f.readline()\n",
    "            query = \"\"\n",
    "            \n",
    "            # Add all constituents of the query\n",
    "            while w.split()[0] != \".N\" and w.split()[0] != \".A\":\n",
    "                query += w + \" \"\n",
    "                w = f.readline()\n",
    "\n",
    "        # Split the line that's read\n",
    "        split = f.readline().split()\n",
    "        \n",
    "        # Break if we reach EOF\n",
    "        # Having a counter to prevent infinite loop\n",
    "        count = 0\n",
    "        \n",
    "        while not split:\n",
    "            split = f.readline().split()\n",
    "            count += 1\n",
    "            \n",
    "            if count > 10:\n",
    "                lijst.append((doc_id, query))\n",
    "                return lijst\n",
    "\n",
    "    #lijst.append((doc_id, query))\n",
    "\n",
    "    return lijst\n",
    "\n",
    "queries = read_queries()"
   ]
  },
  {
   "cell_type": "code",
   "execution_count": 9,
   "metadata": {
    "scrolled": true
   },
   "outputs": [
    {
     "name": "stdout",
     "output_type": "stream",
     "text": [
      "64\n"
     ]
    }
   ],
   "source": [
    "##### \n",
    "print(len(queries))\n",
    "assert len(queries) == 64 and all([q[1] is not None for q in queries]), \"There should be exactly 64 queries\"\n",
    "##### "
   ]
  },
  {
   "cell_type": "markdown",
   "metadata": {},
   "source": [
    "---\n",
    "\n",
    "Read in the stop words:"
   ]
  },
  {
   "cell_type": "code",
   "execution_count": 10,
   "metadata": {},
   "outputs": [
    {
     "name": "stdout",
     "output_type": "stream",
     "text": [
      "a\r\n",
      "about\r\n",
      "above\r\n",
      "accordingly\r\n",
      "across\r\n",
      "after\r\n",
      "afterwards\r\n",
      "again\r\n",
      "against\r\n",
      "all\r\n"
     ]
    }
   ],
   "source": [
    "!head ./datasets/common_words"
   ]
  },
  {
   "cell_type": "code",
   "execution_count": 11,
   "metadata": {},
   "outputs": [],
   "source": [
    "# TODO: Implement this! (3 points)\n",
    "def load_stopwords(root_folder = \"./datasets/\"):\n",
    "    \"\"\"\n",
    "    Load the stopwords\n",
    "    Output: A set of stopwords\n",
    "    \"\"\"\n",
    "    # Initialize set and open file\n",
    "    stop_words = set()\n",
    "    f = open(root_folder + \"common_words\", \"r\")\n",
    "    \n",
    "    for i in range(500):\n",
    "        words = f.readline().split()\n",
    "        \n",
    "        # Exit loop if we encounter empty string - EOF\n",
    "        if not words:\n",
    "            break\n",
    "        stop_words.add(words[0])\n",
    "\n",
    "    # Gimme dem stopwords\n",
    "    return stop_words\n",
    "            \n",
    "stopwords = load_stopwords()\n",
    "assert len(stopwords) == 428"
   ]
  },
  {
   "cell_type": "markdown",
   "metadata": {},
   "source": [
    "--- \n",
    "\n",
    "We can now write some basic text processing functions. A first step is to tokenize the text. You may use any tokenizer available in the `nltk` library:"
   ]
  },
  {
   "cell_type": "code",
   "execution_count": 12,
   "metadata": {},
   "outputs": [],
   "source": [
    "# TODO: Implement this! (5 points)\n",
    "def tokenize(text):\n",
    "    \"\"\"\n",
    "        Tokenize the text. \n",
    "        Input: text - a string\n",
    "        Output: a list of tokens\n",
    "        \n",
    "    \"\"\"\n",
    "    return nltk.word_tokenize(text)"
   ]
  },
  {
   "cell_type": "code",
   "execution_count": 13,
   "metadata": {},
   "outputs": [
    {
     "name": "stdout",
     "output_type": "stream",
     "text": [
      "['the', 'quick', 'brown', 'fox', 'jumps', 'over', 'the', 'lazy', 'dog']\n"
     ]
    }
   ],
   "source": [
    "#####\n",
    "text = \"the quick brown fox jumps over the lazy dog\"\n",
    "tokens = tokenize(text)\n",
    "print(tokens)\n",
    "#####"
   ]
  },
  {
   "cell_type": "markdown",
   "metadata": {},
   "source": [
    "---\n",
    "\n",
    "*Answer the following questions*: \n",
    "- Why is stemming necessary, in particular for IR?\n",
    "    - Stemming is necessary because we want to be able to retrieve information based on a query as well as we possibly can. By \n",
    "      representing each word by its corresponding stem, we can ensure that we find all relevant documents related to the term\n",
    "      instead of potentially excluding a lot of terms that only have an affix appended to the word. E.g. let's say someone\n",
    "      searches for \"cats\" then \"cat\" will most likely result in relevancy too.\n",
    "- Is there any setting (domain, scenario, etc) in which stemming can hurt performance? Illustrate with an example\n",
    "    - Stemming can be aggressive, conservative or abscent altogether. By using stemming we increase the likelyhood that words in a query will match with words in a document. This however can prove to be counterproductive when the use of stemming results in too many matches that don't necessarily provide the information requested by the query e.g. user searches the word \"flying\" but is given information about different types of flies such as bees and houseflies, when the information the user was really requesting was in regards to air travel but stemming caused the word \"flying\" to be converted to \"fly\"."
   ]
  },
  {
   "cell_type": "markdown",
   "metadata": {},
   "source": [
    "Write a function to stem tokens. Again, you can use the `nltk` library for this"
   ]
  },
  {
   "cell_type": "code",
   "execution_count": 14,
   "metadata": {},
   "outputs": [],
   "source": [
    "# TODO: Implement this! (5 points)\n",
    "def stem_token(token):\n",
    "    \"\"\"\n",
    "        Stem the given token, using any stemmer available from the nltk library\n",
    "        Input: a single token\n",
    "        Output: the stem of the token\n",
    "    \"\"\"\n",
    "    stemmer = nltk.PorterStemmer()\n",
    "    return stemmer.stem(token)"
   ]
  },
  {
   "cell_type": "code",
   "execution_count": 15,
   "metadata": {},
   "outputs": [
    {
     "name": "stdout",
     "output_type": "stream",
     "text": [
      "['the', 'quick', 'brown', 'fox', 'jump', 'over', 'the', 'lazi', 'dog']\n",
      "['caress', 'fli', 'die', 'mule', 'deni', 'die', 'agre', 'own', 'humbl', 'size', 'meet', 'state', 'siez', 'item', 'sensat', 'tradit', 'refer', 'colon', 'plot']\n"
     ]
    }
   ],
   "source": [
    "####\n",
    "print([stem_token(t) for t in tokens])\n",
    "tokens_ = [\n",
    "    'caresses', 'flies', 'dies', 'mules', 'denied',\n",
    "    'died', 'agreed', 'owned', 'humbled', 'sized',\n",
    "    'meeting', 'stating', 'siezing', 'itemization',\n",
    "    'sensational', 'traditional', 'reference', 'colonizer',\n",
    "    'plotted']\n",
    "print([stem_token(t) for t in tokens_])\n",
    "####"
   ]
  },
  {
   "cell_type": "markdown",
   "metadata": {},
   "source": [
    "---\n",
    "\n",
    "*Answer the following questions*: \n",
    "- Another processing step (not done here) is to use n-grams. Illustrate why you would want to use n-grams in IR with an example.  \n",
    "    - *N-grams can be useful on both word level and character level. Word level N-grams can be used to reduce misspelled characters in words and thus reduce the amount of noise in text that might be difficult to match a query with. N-grams can also be used to model language, the more frequently a word n-gram occurs, the more likely it is to correspond to a meaningful phrase in the language.*\n",
    "- Usage of n-grams exacerbates some problems ex. in bi-gram language models. What is this problem? Suggest one solution \n",
    "    - A common problem with n-gram models is the decreased occurence of higher order n-grams as opposed to lower order n-grams. Very specific higher order n-grams will very infrequently occur in different documents, causing the probabilities to go down for almost every document for this specific n-gram. A potential solution would be using different subsets of the higher order n-grams to see which combinations give us the best results to our query."
   ]
  },
  {
   "cell_type": "markdown",
   "metadata": {},
   "source": [
    "--- \n",
    "\n",
    "The following function puts it all together. Given a string, it tokenizes it, and processes it according to the flags that you set."
   ]
  },
  {
   "cell_type": "code",
   "execution_count": 16,
   "metadata": {},
   "outputs": [],
   "source": [
    "#### Putting it all together\n",
    "def process_text(text, stem=False, remove_stopwords=False, lowercase_text=False):\n",
    "    \n",
    "    tokens = []\n",
    "    for token in tokenize(text):\n",
    "        if remove_stopwords and token.lower() in stopwords:\n",
    "            continue\n",
    "        if stem:\n",
    "            token = stem_token(token)\n",
    "        if lowercase_text:\n",
    "            token = token.lower()\n",
    "        tokens.append(token)\n",
    "\n",
    "    return tokens\n",
    "#### "
   ]
  },
  {
   "cell_type": "markdown",
   "metadata": {},
   "source": [
    "Let's create two sets of pre-processed documents"
   ]
  },
  {
   "cell_type": "code",
   "execution_count": 17,
   "metadata": {},
   "outputs": [],
   "source": [
    "# In this configuration:\n",
    "# Don't preprocess the text, except to tokenize \n",
    "config_1 = {\n",
    "  \"stem\": False,\n",
    "  \"remove_stopwords\" : False,\n",
    "  \"lowercase_text\": True\n",
    "} \n",
    "\n",
    "\n",
    "# In this configuration:\n",
    "# Preprocess the text: stem and remove stopwords\n",
    "config_2 = {\n",
    "  \"stem\": True,\n",
    "  \"remove_stopwords\" : True,\n",
    "  \"lowercase_text\": True, \n",
    "} \n"
   ]
  },
  {
   "cell_type": "markdown",
   "metadata": {},
   "source": [
    "We can now process the documents and queries according to the configuration specified above"
   ]
  },
  {
   "cell_type": "code",
   "execution_count": 18,
   "metadata": {},
   "outputs": [],
   "source": [
    "####\n",
    "doc_repr_1 = []\n",
    "doc_repr_2 = []\n",
    "for (doc_id, document) in docs:\n",
    "    doc_repr_1.append((doc_id, process_text(document, **config_1)))\n",
    "    doc_repr_2.append((doc_id, process_text(document, **config_2)))\n",
    "\n",
    "####"
   ]
  },
  {
   "cell_type": "code",
   "execution_count": 19,
   "metadata": {},
   "outputs": [
    {
     "data": {
      "text/plain": [
       "(1, ['preliminary', 'report-international', 'algebraic', 'language'])"
      ]
     },
     "execution_count": 19,
     "metadata": {},
     "output_type": "execute_result"
    }
   ],
   "source": [
    "doc_repr_1[0]"
   ]
  },
  {
   "cell_type": "code",
   "execution_count": 20,
   "metadata": {},
   "outputs": [
    {
     "data": {
      "text/plain": [
       "(1, ['preliminari', 'report-intern', 'algebra', 'languag'])"
      ]
     },
     "execution_count": 20,
     "metadata": {},
     "output_type": "execute_result"
    }
   ],
   "source": [
    "doc_repr_2[0]"
   ]
  },
  {
   "cell_type": "markdown",
   "metadata": {},
   "source": [
    "\n",
    "--- \n",
    "\n",
    "## Section 2: Indexing (10 points)\n",
    "\n",
    "\n",
    "A retrieval function usually takes in a query document pair, and scores a query against a document.  Our document set is quite small - just a few thousand documents. However, consider a web-scale dataset with a few million documents. In such a scenario, it would become infeasible to score every query and document pair. In such a case, we can build an inverted index. From Wikipedia:\n",
    "\n",
    "> ... , an inverted index (also referred to as a postings file or inverted file) is a database index storing a mapping from content, such as words or numbers, to its locations in a table, .... The purpose of an inverted index is to allow fast full-text searches, at a cost of increased processing when a document is added to the database. ...\n",
    "\n",
    "\n",
    "Consider a simple inverted index, which maps from word to document. This can improve the performance of a retrieval system significantly. In this assignment, we consider a *simple* inverted index, which maps a word to a set of documents. In practice, however, more complex indices might be used.  \n",
    "\n",
    "\n",
    "### Building an index\n",
    "\n",
    "A retrieval function usually takes in a query document pair, and scores a query against a document.  Our document set is quite small - just a few thousand documents. However, consider a web-scale dataset with a few million documents. In such a scenario, it would become infeasible to score every query and document pair. In such a case, we can build an inverted index. From Wikipedia:\n",
    "\n",
    "> ... , an inverted index (also referred to as a postings file or inverted file) is a database index storing a mapping from content, such as words or numbers, to its locations in a table, .... The purpose of an inverted index is to allow fast full-text searches, at a cost of increased processing when a document is added to the database. ...\n",
    "\n",
    "\n",
    "Consider a simple inverted index, which maps from word to document. This can improve the performance of a retrieval system significantly. In this assignment, we consider a *simple* inverted index, which maps a word to a set of documents. In practice, however, more complex indices might be used.  \n"
   ]
  },
  {
   "cell_type": "markdown",
   "metadata": {},
   "source": [
    "---\n",
    "\n",
    "In this assignment we will be using an index created in memory, since our dataset is tiny. To get started, build a simple index that maps simply counts the number of tokens present in a document. This index  is built using a python dictionary.\n",
    "\n",
    "*Answer the following questions*:\n",
    "- What is the time complexity of retrieving a list of documents from a python `dict` object? \n",
    "    - A simple dictionary where each list of documents is behind a given key value would require an operation consisting of O(1) time complexity.\n",
    "- Consider the case with a 10 million documents. What is the time complexity of retrieval with an inverted index (assuming you can fit the entire index in memory)? (Hint: Consider length of a query $|q|$) \n",
    "    - If our query is an index term that can be used in it's entirety as a key for our python dictionary, then the time complexity will be O(1). This however is often infeasible for every possible query so we might have to use every individual word in our query to retrieve the corresponding documents, this will have a time complexity of O(n) where n corresponds to the length of our query.\n",
    "- For a large enough collection, we cannot store an index in memory. How is this tackled in practice (briefly explain)? Comment on the time complexity. \n",
    "    - Two potential solutions may exist. The first one would be to use a database instead which potentially slows down the time complexity because we can not use our O(1) look-ups in dictionaries anymore. The second way to tackle this problem is by going through the collection every single time, 'implicitly' building the index, keeping track of counts but not saving the results in an index. This would increase our time complexity very significantly because we would have to build the implicit index each time.\n",
    "- Mention a use-case in which a simple index (from word -> doc_id) might not suffice anymore. How would you modify the index to suit this use-case (if you can!)  \n",
    "    - If the amount of documents is so large that it becomes infeasible to go through the entire list of documents at each word entry in the index, we could change these lists to dictionaries allowing us to have faster look-ups for specific documents in each entry.\n",
    "    \n",
    "    \n",
    "Now, implement a function to build an index:"
   ]
  },
  {
   "cell_type": "code",
   "execution_count": 21,
   "metadata": {},
   "outputs": [],
   "source": [
    "# doc_repr_1 is NOT stemmed etc\n",
    "# doc_repr_2 is tokenized and stemmed etc"
   ]
  },
  {
   "cell_type": "code",
   "execution_count": 22,
   "metadata": {},
   "outputs": [],
   "source": [
    "# TODO: Implement this! 10 points\n",
    "def build_tf_index(documents):\n",
    "    \"\"\"\n",
    "    Build an inverted index (with counts). The output is a dictionary which takes in a token\n",
    "    and returns a list of (doc_id, count) where 'count' is the count of the 'token' in 'doc_id'\n",
    "    Input: a list of documents - (doc_id, tokens) \n",
    "    Output: An inverted index. [token] -> [(doc_id, token_count)]\n",
    "    \"\"\"\n",
    "    # Initialize the main dictionary\n",
    "    # And a value dictionary to reduce computational complexity\n",
    "    indexdict = {}\n",
    "    \n",
    "    # Naive implementation because I didn't manage to quickly write a faster implementation\n",
    "    for i in range(len(documents)):\n",
    "        valuedict = {}\n",
    "        \n",
    "        # Get doc_id and content\n",
    "        doc_id, content = documents[i]\n",
    "        doc_id = int(doc_id)        \n",
    "\n",
    "        # Initialize all values to 0\n",
    "        for word in content:\n",
    "            valuedict[word] = 0\n",
    "        \n",
    "        # Do actual counting\n",
    "        for word in content:\n",
    "            valuedict[word] += 1\n",
    "            \n",
    "        for key, value in valuedict.items():\n",
    "            \n",
    "            # Is this a set lookup? guess not\n",
    "            if key in indexdict.keys():\n",
    "                indexdict[key].append((doc_id, value))\n",
    "            else:\n",
    "                indexdict[key] = [(doc_id, value)]\n",
    "        \n",
    "    return indexdict\n",
    "        \n",
    " \n",
    "# Create the 2 indices\n",
    "tf_index_1 = build_tf_index(doc_repr_1)\n",
    "tf_index_2 = build_tf_index(doc_repr_2)\n",
    "\n",
    "#test_index = build_tf_index([(1, [\"hoi\", \"hoi\", \"poep\", \"hoi\", \"poep\"]), (2,[\"hey\", \"hoi\", \"hoi\", \"hey\"])])\n",
    "\n",
    "# This function returns the correct index \n",
    "def get_index(index_set):\n",
    "    assert index_set in {1, 2}\n",
    "    return {\n",
    "        1: tf_index_1,\n",
    "        2: tf_index_2\n",
    "    }[index_set]\n",
    "\n",
    "# This function correctly pre-processes the text given the index set\n",
    "def preprocess_query(text, index_set):\n",
    "    assert index_set in {1, 2}\n",
    "    if index_set == 1:\n",
    "        return process_text(text, **config_1)\n",
    "    elif index_set == 2:\n",
    "        return process_text(text, **config_2)\n"
   ]
  },
  {
   "cell_type": "markdown",
   "metadata": {},
   "source": [
    "--- \n",
    "\n",
    "## Section 3: Retrieval  (80 points)\n",
    "\n",
    "Now that we have cleaned and processed our dataset, we can start building simple IR systems. \n",
    "\n",
    "For now, we consider *simple* IR systems, which involve computing scores from the tokens present in the document/query. More advanced methods are covered in later assignments.\n",
    "\n",
    "We will implement the following methods in this section:\n",
    "- TF-IDF\n",
    "- BM25\n",
    "- Query Likelihood Models\n",
    "\n",
    "--- \n",
    "\n",
    "### Ranking functions\n",
    "\n",
    "\n",
    "Probably the simplest IR model is the Bag of Words (BOW) model. Implement a function that scores a query against a document using this model.   \n",
    "\n",
    "Note that you can use either the count of the token or 'binarize' it i.e set the value equal to 1 if the token appears.   \n"
   ]
  },
  {
   "cell_type": "markdown",
   "metadata": {},
   "source": [
    "**Note:** Make sure you use the `get_index` function to retrieve the correct index, and call `preprocess_query` with the correct index!"
   ]
  },
  {
   "cell_type": "code",
   "execution_count": 23,
   "metadata": {},
   "outputs": [],
   "source": [
    "# TODO: Implement this! 10 points\n",
    "def dict_to_sorted_list(dictionary):\n",
    "    output = []\n",
    "    dictionary = {k: v for k, v in sorted(dictionary.items(), key=lambda item: item[1], reverse=True)}\n",
    "    for key, val in dictionary.items():\n",
    "        output.append((key,val))\n",
    "    return output\n",
    "    \n",
    "def bow_search(query, index_set):\n",
    "    \"\"\"\n",
    "        Perform a search over all documents with the given query. \n",
    "        Note #1: You have to use the `get_index` function created in the previous cells\n",
    "        Note #2: You can binarize the counts if you wish to\n",
    "        Input: \n",
    "            query - a (unprocessed) query\n",
    "            index_set - the index to use\n",
    "        Output: a list of (document_id, score), sorted in descending relevance to the given query \n",
    "    \"\"\"\n",
    "    index = get_index(index_set)\n",
    "    query = preprocess_query(query, index_set)\n",
    "    \n",
    "    valuecount = {}\n",
    "    \n",
    "    \n",
    "    for word in query:\n",
    "        if(word not in index):\n",
    "            continue\n",
    "        lijst = index[word]\n",
    "        \n",
    "        for (a,b) in lijst:\n",
    "            if not a in valuecount:\n",
    "                valuecount[a] = 1.0\n",
    "            else:\n",
    "                valuecount[a] += 1.0\n",
    "        \n",
    "    return dict_to_sorted_list(valuecount)"
   ]
  },
  {
   "cell_type": "code",
   "execution_count": 24,
   "metadata": {},
   "outputs": [],
   "source": [
    "query = \"propose equivalent glossary simple\"\n",
    "ding = bow_search(query,2)"
   ]
  },
  {
   "cell_type": "markdown",
   "metadata": {},
   "source": [
    "*Answer the following questions*: \n",
    "- The BOW model is might not be a good choice for use in IR. Why? \n",
    "    - *Bag of words is a useful method for retrieval and classification but it has its downsides. BoW does not give a good representation of a document because of the independence assumption, this results in different documents having the same representation, even though the two documents share the same words and score. The main challenge that the BoW representation faces is that word order can have a significant impact on what information is presented in the document which is not captured by the model.*"
   ]
  },
  {
   "cell_type": "code",
   "execution_count": 25,
   "metadata": {},
   "outputs": [
    {
     "name": "stdout",
     "output_type": "stream",
     "text": [
      "BOW Results:\n",
      "Rank 0(1.0): ALGOL Sub-Committee Report - Extensions...\n",
      "Rank 1(1.0): The Use of Computers in Engineering Classroom Inst...\n",
      "Rank 2(1.0): Report on a Conference of University Computing Cen...\n",
      "Rank 3(1.0): Report on the Algorithmic Language ALGOL 60...\n",
      "Rank 4(1.0): SMALGOL-61\\nPrior to and during the 1961 Western J...\n"
     ]
    }
   ],
   "source": [
    "####\n",
    "docs_by_id = dict(docs)\n",
    "def print_results(docs, len_limit=50):    \n",
    "    for i, (doc_id, score) in enumerate(docs):\n",
    "        doc_content = docs_by_id[doc_id].strip().replace(\"\\n\", \"\\\\n\")[:len_limit] + \"...\"\n",
    "        print(f\"Rank {i}({score:.2}): {doc_content}\")\n",
    "\n",
    "test_bow = bow_search(\"report\", index_set=1)[:5]\n",
    "print(f\"BOW Results:\")\n",
    "print_results(test_bow)\n",
    "#### "
   ]
  },
  {
   "cell_type": "markdown",
   "metadata": {},
   "source": [
    "Before we implement the tf-idf scoring functions, let's first write a function to compute the document frequencies of all words.  "
   ]
  },
  {
   "cell_type": "code",
   "execution_count": 26,
   "metadata": {},
   "outputs": [],
   "source": [
    "# TODO: Implement this! (5 points)\n",
    "def compute_df(documents):\n",
    "    \"\"\"\n",
    "        Compute the document frequency of all terms in the vocabulary\n",
    "        Input: A list of documents\n",
    "        Output: A dictionary with {token: document frequency)\n",
    "    \"\"\"\n",
    "    N = len(documents)\n",
    "    output = {}\n",
    "    for doc in documents:\n",
    "        doc = set(doc)\n",
    "        for word in doc:\n",
    "            if not word in output:\n",
    "                output[word] = 1\n",
    "            else:\n",
    "                output[word] += 1\n",
    "                \n",
    "    for key, val in output.items():\n",
    "        output[key] = val/N\n",
    "        \n",
    "    return output\n",
    "\n",
    "\n",
    "# get the document frequencies of each document\n",
    "df_1 = compute_df([d[1] for d in doc_repr_1])\n",
    "df_2 = compute_df([d[1] for d in doc_repr_2])\n",
    "\n",
    "def get_df(index_set):\n",
    "    assert index_set in {1, 2}\n",
    "    return {\n",
    "        1: df_1,\n",
    "        2: df_2\n",
    "    }[index_set]"
   ]
  },
  {
   "cell_type": "markdown",
   "metadata": {},
   "source": [
    "Next, implement a function that computes a tf-idf score given a query.      "
   ]
  },
  {
   "cell_type": "code",
   "execution_count": 27,
   "metadata": {},
   "outputs": [],
   "source": [
    "# TODO: Implement this! 10 points\n",
    "def tfidf_search(query, index_set):\n",
    "    \"\"\"\n",
    "        Perform a search over all documents with the given query using tf-idf. \n",
    "        Note #1: You have to use the `get_index` (and the `get_df`) function created in the previous cells\n",
    "        Input: \n",
    "            query - a (unprocessed) query\n",
    "            index_set - the index to use\n",
    "        Output: a list of (document_id, score), sorted in descending relevance to the given query \n",
    "    \"\"\"\n",
    "    index = get_index(index_set)\n",
    "    query = preprocess_query(query, index_set)\n",
    "    df = get_df(index_set)\n",
    "    tfidfcount = {}\n",
    "    \n",
    "    for q in query:\n",
    "        if(q not in index):\n",
    "            continue\n",
    "        for doc, count in index[q]:\n",
    "            tfidf = np.log(1 +count) * np.log(1/df[q])\n",
    "            if not doc in tfidfcount:\n",
    "                tfidfcount[doc] = tfidf\n",
    "            else:\n",
    "                tfidfcount[doc] += tfidf\n",
    "                \n",
    "    return dict_to_sorted_list(tfidfcount)"
   ]
  },
  {
   "cell_type": "code",
   "execution_count": 28,
   "metadata": {},
   "outputs": [
    {
     "name": "stdout",
     "output_type": "stream",
     "text": [
      "TFIDF Results:\n",
      "Rank 0(7.7): Rejuvenating Experimental Computer Science\\nThis r...\n",
      "Rank 1(7.1): An Information Algebra - Phase I Report-Language\\n...\n",
      "Rank 2(5.5): ALGOL 60 Confidential\\nThe ALGOL 60 Report,* when ...\n",
      "Rank 3(4.4): Automatic Abstracting and Indexing Survey and Reco...\n",
      "Rank 4(4.4): A String Language for Symbol Manipulation Based on...\n"
     ]
    }
   ],
   "source": [
    "####\n",
    "test_tfidf = tfidf_search(\"report\", index_set=1)[:5]\n",
    "print(f\"TFIDF Results:\")\n",
    "print_results(test_tfidf)\n",
    "####"
   ]
  },
  {
   "cell_type": "markdown",
   "metadata": {},
   "source": [
    "*Answer the following questions*: \n",
    "- It is generally not advisable to use the naive version of tf-idf. Why?\n",
    "    - Naive tf-idf also utilizes the naive bayes assumption. This will simplify a lot of the mathematics involved but will not reflect the reality that words do not occur independently in text. This will result in individual words being more important than phrases and semantics which is likely to result in worse results.\n",
    "- Illustrate with an example why using a sublinear scaling for TF is preferable in some cases.  \n",
    "    - Using sublinear scaling helps mitigate the effect that will cause our model to assign more weight to documents that have a high frequency of a given word than it should. Just because the word \"football\" occurs 20 times more in a document, does not neccecarily mean that the document has 20 times more significance than other documents that contain the word \"football\"."
   ]
  },
  {
   "cell_type": "markdown",
   "metadata": {},
   "source": [
    "--- \n",
    "\n",
    "*Answer the following questions*: \n",
    "- An alternative way to compute a query<>document score is to vectorize both the query and document (where each dimension corresponds to a token), and compute a score. The score can be computed using a dot product between the query and the document vectors. Why is the cosine similary function a better choice, particularly in IR? \n",
    "    - The vectorized representation of a query and a document is likely to vary a lot in terms of length. By computing the cosine similarity, we normalize the vector representations and only factor in difference in terms or orientation. Documents that share a high cosine similarity score with a query are likely to be relevant to the search.\n",
    "- What is the time complexity of a search if we are using the vector space method mentioned in the previous question? What is the time complexity if we're using an index (assume that it fits in memory)? Assume $N$ is the number of documents and $|q|$ is the length of a query. \n",
    "    - To calculate the cosine similarity we need to calculate the dot product and the magnitudes of the vectors which can be done with one iterator over |V| where V is the size of the vocabulary such the complexity of that part will be O(|V|) and we have to do this for each document giving us a complexity of O(N $\\times$ |V|). If we're using an index, this complexity is of O(N $\\times$ |q|) because for each word in the query we have to retrieve the list of (N/average # of elements for each word in the index) and do something with the list."
   ]
  },
  {
   "cell_type": "markdown",
   "metadata": {},
   "source": [
    "--- \n",
    "\n",
    "#### Query Likelihood Models\n",
    "\n",
    "In this section you will implement a simple query likelihood model. \n",
    "\n",
    "First, let use implement a naive version of a QL model, assuming a multinomial unigram language model (with a uniform prior over the documents). \n",
    "\n",
    "**Note:** Make sure you use the `get_index` function to retrieve the correct index, and call `preprocess_query` with the correct index!\n",
    "\n",
    "--- \n",
    "\n",
    "*Answer the following questions*: \n",
    "- Write down the formula for computing the query likelihood, assuming a multinomial unigram language model. \n",
    "    - $P(Q|D) = \\prod_{i = 1}^n P(q_i|D)$ where $q_i$ is a query word and there are n words in the query and $P(q_i|D) = \\frac{f_{qi},D}{|D|}$ where $f_{qi},D$ is the number of times word qi occurs in document D. \n",
    "- What problem does this naive method have? Suggest a simple way to fix it.\n",
    "    - For some documents if a specific word in the query does not appear in that document, its total score goes to 0 because of the multiplication even though the other words may occur very frequently making the document likely to be relevant. This can be offset by using smoothing, so the absence of certain words doesn't completely make the probability go to 0."
   ]
  },
  {
   "cell_type": "code",
   "execution_count": 29,
   "metadata": {},
   "outputs": [],
   "source": [
    "####\n",
    "def doc_lengths(documents):\n",
    "    doc_lengths = {doc_id:len(doc) for (doc_id, doc) in documents}\n",
    "    return doc_lengths\n",
    "\n",
    "doc_lengths_1 = doc_lengths(doc_repr_1)\n",
    "doc_lengths_2 = doc_lengths(doc_repr_2)\n",
    "\n",
    "def get_doc_lengths(index_set):\n",
    "    assert index_set in {1, 2}\n",
    "    return {\n",
    "        1: doc_lengths_1,\n",
    "        2: doc_lengths_2\n",
    "    }[index_set]\n",
    "####"
   ]
  },
  {
   "cell_type": "code",
   "execution_count": 30,
   "metadata": {},
   "outputs": [],
   "source": [
    "# TODO: Implement this! 15 points\n",
    "def naive_ql_search(query, index_set):\n",
    "    \"\"\"\n",
    "        Perform a search over all documents with the given query using a naive QL model. \n",
    "        Note #1: You have to use the `get_index` (and get_doc_lengths) function created in the previous cells\n",
    "        Input: \n",
    "            query - a (unprocessed) query\n",
    "            index_set - the index to use\n",
    "        Output: a list of (document_id, score), sorted in descending relevance to the given query \n",
    "    \"\"\"\n",
    "    index = get_index(index_set)\n",
    "    query = preprocess_query(query, index_set)\n",
    "    lens = get_doc_lengths(index_set)\n",
    "    dictje = {}\n",
    "    \n",
    "    for doc in set([d for _, val in index.items() for d,unk in val]):\n",
    "        dictje[doc] = 0.0\n",
    "    \n",
    "    for q in query:\n",
    "        if(q not in index):\n",
    "            continue\n",
    "        seen = {}\n",
    "        for doc, count in index[q]:\n",
    "            if dictje[doc] == -float('inf'):\n",
    "                continue\n",
    "            if(doc in dictje):\n",
    "                dictje[doc] += np.log(count) - np.log(lens[doc])\n",
    "            else:\n",
    "                dictje[doc] = np.log(count) - np.log(lens[doc])\n",
    "            seen[doc] = 0\n",
    "        for doc in dictje.keys():\n",
    "            if(doc not in seen):\n",
    "                dictje[doc] += -float('inf')\n",
    "    \n",
    "    return dict_to_sorted_list(dictje)"
   ]
  },
  {
   "cell_type": "code",
   "execution_count": 31,
   "metadata": {
    "scrolled": false
   },
   "outputs": [
    {
     "name": "stdout",
     "output_type": "stream",
     "text": [
      "NaiveQL Results:\n",
      "Rank 0(-1.6): ALGOL Sub-Committee Report - Extensions...\n",
      "Rank 1(-1.6): A Report Writer For COBOL...\n",
      "Rank 2(-1.6): A CRT Report Generating System...\n",
      "Rank 3(-1.8): Supplement to the ALGOL 60 Report...\n",
      "Rank 4(-1.9): Report on the Algorithmic Language ALGOL 60...\n"
     ]
    }
   ],
   "source": [
    "####\n",
    "test_naiveql = naive_ql_search(\"report\", index_set=1)[:5]\n",
    "print(f\"NaiveQL Results:\")\n",
    "print_results(test_naiveql)\n",
    "####"
   ]
  },
  {
   "cell_type": "markdown",
   "metadata": {},
   "source": [
    "Now, let's implement a (slightly more) complex QL model. This model should 'fix' the issue with the previous method. If your model requires hyperparameters, set a reasonable value. "
   ]
  },
  {
   "cell_type": "code",
   "execution_count": 32,
   "metadata": {},
   "outputs": [],
   "source": [
    "# TODO: Implement this! 20 points\n",
    "def ql_search(query, index_set):\n",
    "    \"\"\"\n",
    "        Perform a search over all documents with the given query using a naive QL model. \n",
    "        Note #1: You have to use the `get_index` (and get_doc_lengths) function created in the previous cells\n",
    "        Input: \n",
    "            query - a (unprocessed) query\n",
    "            index_set - the index to use\n",
    "        Output: a list of (document_id, score), sorted in descending relevance to the given query \n",
    "    \"\"\"\n",
    "    index = get_index(index_set)\n",
    "    query = preprocess_query(query, index_set)\n",
    "    lens = get_doc_lengths(index_set)\n",
    "    dictje = {}\n",
    "    \n",
    "    for doc in set([d for _, val in index.items() for d,unk in val]):\n",
    "        dictje[doc] = 0.0\n",
    "        \n",
    "    eps = -5\n",
    "    \n",
    "    for q in query:\n",
    "        if(q not in index):\n",
    "            continue\n",
    "        seen = set()\n",
    "        for doc, count in index[q]:\n",
    "            if dictje[doc] == -float('inf'):\n",
    "                continue\n",
    "            if(doc in dictje):\n",
    "                dictje[doc] += np.log(count) - np.log(lens[doc])\n",
    "            else:\n",
    "                dictje[doc] = np.log(count) - np.log(lens[doc])\n",
    "            seen.add(doc)\n",
    "        for doc in dictje.keys():\n",
    "            if(doc not in seen):\n",
    "                dictje[doc] += eps\n",
    "    \n",
    "    return dict_to_sorted_list(dictje)"
   ]
  },
  {
   "cell_type": "code",
   "execution_count": 33,
   "metadata": {},
   "outputs": [
    {
     "name": "stdout",
     "output_type": "stream",
     "text": [
      "Rank 0(-1.6): ALGOL Sub-Committee Report - Extensions...\n",
      "Rank 1(-1.6): A Report Writer For COBOL...\n",
      "Rank 2(-1.6): A CRT Report Generating System...\n",
      "Rank 3(-1.8): Supplement to the ALGOL 60 Report...\n",
      "Rank 4(-1.9): Report on the Algorithmic Language ALGOL 60...\n",
      "\n",
      "Rank 0(-1.6e+01): ALGOL Sub-Committee Report - Extensions...\n",
      "Rank 1(-1.6e+01): A Report Writer For COBOL...\n",
      "Rank 2(-1.6e+01): A CRT Report Generating System...\n",
      "Rank 3(-1.8e+01): Supplement to the ALGOL 60 Report...\n",
      "Rank 4(-1.9e+01): Report on the Algorithmic Language ALGOL 60...\n"
     ]
    }
   ],
   "source": [
    "#### Test the QL model\n",
    "test_ql_results = ql_search(\"report\", index_set=1)[:5]\n",
    "print_results(test_ql_results)\n",
    "print()\n",
    "test_ql_results_long = ql_search(\"report \" * 10, index_set=1)[:5]\n",
    "print_results(test_ql_results_long)\n",
    "####"
   ]
  },
  {
   "cell_type": "markdown",
   "metadata": {},
   "source": [
    "*Answer the following questions*: \n",
    "- What happens to the query likelihood for long queries? What is a simple fix for this issue?\n",
    "    - Either its values can get really low due to smoothing or its score changes more than we want based on the repeated occurrence of a single word. The latter can be fixed by disregarding subsequent words in the query that are the same."
   ]
  },
  {
   "cell_type": "markdown",
   "metadata": {},
   "source": [
    "\n",
    "--- \n",
    "\n",
    "#### BM25\n",
    "\n",
    "In this section, we will implement the widely used and hard to beat BM25 scoring function. \n"
   ]
  },
  {
   "cell_type": "code",
   "execution_count": 34,
   "metadata": {},
   "outputs": [],
   "source": [
    "# TODO: Implement this! (20 points)\n",
    "def bm25_search(query, index_set,k1=1.5,k3=0,b=0.75):\n",
    "    \"\"\"\n",
    "        Perform a search over all documents with the given query using BM25. \n",
    "        Note #1: You have to use the `get_index` (and `get_doc_lengths`) function created in the previous cells\n",
    "        Note #2: You might have to create some variables beforehand and use them in this function\n",
    "        Input: \n",
    "            query - a(n unprocessed) query\n",
    "            index_set - the index to use\n",
    "        Output: a list of (document_id, score), sorted in descending relevance to the given query \n",
    "    \"\"\"\n",
    "    index = get_index(index_set)\n",
    "    query = preprocess_query(query, index_set)\n",
    "    lens = get_doc_lengths(index_set)\n",
    "    df = get_df(index_set)\n",
    "    dictje = {}\n",
    "    \n",
    "    avglen = 0\n",
    "    for key,val in lens.items():\n",
    "        avglen += val\n",
    "    avglen /= len(lens)\n",
    "    \n",
    "    for q in set(query):\n",
    "        if(q not in index):\n",
    "            continue\n",
    "        for doc, count in index[q]:\n",
    "            qcount = query.count(q)\n",
    "            tfidf = (count * (k1+1) / (count + k1 * (1-b+b*lens[doc]/avglen))) * ((k3+1)*qcount)/(k3+qcount) * np.log(1/df[q])\n",
    "            if not doc in dictje:\n",
    "                dictje[doc] = tfidf\n",
    "            else:\n",
    "                dictje[doc] += tfidf\n",
    "    \n",
    "    return dict_to_sorted_list(dictje)"
   ]
  },
  {
   "cell_type": "code",
   "execution_count": 35,
   "metadata": {},
   "outputs": [
    {
     "name": "stdout",
     "output_type": "stream",
     "text": [
      "Rank 0(6.8): ALGOL Sub-Committee Report - Extensions...\n",
      "Rank 1(6.8): A Report Writer For COBOL...\n",
      "Rank 2(6.8): A CRT Report Generating System...\n",
      "Rank 3(6.7): Supplement to the ALGOL 60 Report...\n",
      "Rank 4(6.6): Report on the Algorithmic Language ALGOL 60...\n"
     ]
    }
   ],
   "source": [
    "#### Test the BM25 model\n",
    "test_bm25_results = bm25_search(\"report\", index_set=1)[:5]\n",
    "print_results(test_bm25_results)\n",
    "####"
   ]
  },
  {
   "cell_type": "markdown",
   "metadata": {},
   "source": [
    "\n",
    "\n",
    "*Answer the following questions*: \n",
    "- Briefly explain how the BM25 model improves upon the tf-idf model.\n",
    "    - The BM25 extends the scoring function by incorporationg a propabilistic approach and the inclusion of document and query term weight. This allows the queries and documents to be more directly comparible than using a standard term scoring method using the cosine similarity. \n",
    "    \n",
    "---"
   ]
  },
  {
   "cell_type": "code",
   "execution_count": 36,
   "metadata": {},
   "outputs": [],
   "source": [
    "#### Highlighter function\n",
    "# class for results\n",
    "ResultRow = namedtuple(\"ResultRow\", [\"doc_id\", \"snippet\", \"score\"])\n",
    "# doc_id -> doc\n",
    "docs_by_id = dict((d[0], d[1]) for d in docs)\n",
    "\n",
    "def highlight_text(document, query, tol=17):\n",
    "    import re\n",
    "    tokens = tokenize(query)\n",
    "    regex = \"|\".join(f\"(\\\\b{t}\\\\b)\" for t in tokens)\n",
    "    regex = re.compile(regex, flags=re.IGNORECASE)\n",
    "    output = \"\"\n",
    "    i = 0\n",
    "    for m in regex.finditer(document):\n",
    "        start_idx = max(0, m.start() - tol)\n",
    "        end_idx = min(len(document), m.end() + tol)\n",
    "        output += \"\".join([\"...\",\n",
    "                        document[start_idx:m.start()],\n",
    "                        \"<strong>\",\n",
    "                        document[m.start():m.end()],\n",
    "                        \"</strong>\",\n",
    "                        document[m.end():end_idx],\n",
    "                        \"...\"])\n",
    "    return output.replace(\"\\n\", \" \")\n",
    "\n",
    "\n",
    "def make_results(query, search_fn, index_set):\n",
    "    results = []\n",
    "    for doc_id, score in search_fn(query, index_set):\n",
    "        highlight = highlight_text(docs_by_id[doc_id], query)\n",
    "        if len(highlight.strip()) == 0:\n",
    "            highlight = docs_by_id[doc_id]\n",
    "        results.append(ResultRow(doc_id, highlight, score))\n",
    "    return results\n",
    "####"
   ]
  },
  {
   "cell_type": "markdown",
   "metadata": {},
   "source": [
    "---\n",
    "---\n",
    "\n",
    "The widget below allows you to play with the search functions you've written so far. This can be used, for example, to answer some of the theory questions"
   ]
  },
  {
   "cell_type": "code",
   "execution_count": 37,
   "metadata": {
    "scrolled": true
   },
   "outputs": [
    {
     "data": {
      "application/vnd.jupyter.widget-view+json": {
       "model_id": "6176784154444e54b7b7d306e4b5a038"
      }
     },
     "metadata": {},
     "output_type": "display_data"
    }
   ],
   "source": [
    "# Set this to the function you want to test\n",
    "# this function should take in a query (string)\n",
    "# and return a sorted list of (doc_id, score) \n",
    "# with the most relevant document in the first position\n",
    "search_fn = bm25_search\n",
    "index_set = 1\n",
    "\n",
    "text = widgets.Text(description=\"Search Bar\", width=200)\n",
    "display(text)\n",
    "\n",
    "def handle_submit(sender):\n",
    "    print(f\"Searching for: '{sender.value}'\")\n",
    "    \n",
    "    results = make_results(sender.value, search_fn, index_set)\n",
    "    \n",
    "    # display only the top 5\n",
    "    results = results[:5]\n",
    "    \n",
    "    body = \"\"\n",
    "    for idx, r in enumerate(results):\n",
    "        body += f\"<li>Document #{r.doc_id}({r.score}): {r.snippet}</li>\"\n",
    "    display(HTML(f\"<ul>{body}</ul>\"))\n",
    "    \n",
    "\n",
    "text.on_submit(handle_submit)"
   ]
  },
  {
   "cell_type": "markdown",
   "metadata": {},
   "source": [
    "## Section 4: Offline Evaluation (45 points)\n",
    "\n",
    "Before we jump in and implement an algorithm for retrieval, we first have to learn how to evaluate such a system. In particular, we will work with offline evaluation metrics. These metrics are computed on a dataset with known relevance judgements.\n",
    "\n",
    "Implement the following evaluation metrics. \n",
    "\n",
    "1. Precision\n",
    "2. Recall\n",
    "3. Mean Average Precision\n",
    "4. Expected Reciprocal Rank\n",
    "\n",
    "---\n",
    "*Answer the following questions*: \n",
    "- What are the main limitations of an offline evaluation?\n",
    "    - *The main problems with offline evaluation is that it can be difficult to build test collections that accurately reflect real users and traffic. The test set that is used for offline evaluation is more likely to be biased and the results will not portray how successful the search engine is for the end user as effectively as online evaluation. Online evaluation is able to more accuratly evaluate how effective the system is because it is being evaluated on metrics that portray the actual usage of the search engine in a real life scenario.*"
   ]
  },
  {
   "cell_type": "markdown",
   "metadata": {},
   "source": [
    "---\n",
    "\n",
    "Let's take a look at the `qrels.text` file, which contains the ground truth relevance scores. The relevance labels for CACM are binary - either 0 or 1. \n"
   ]
  },
  {
   "cell_type": "code",
   "execution_count": 38,
   "metadata": {},
   "outputs": [
    {
     "name": "stdout",
     "output_type": "stream",
     "text": [
      "01 1410  0 0\r\n",
      "01 1572  0 0\r\n",
      "01 1605  0 0\r\n",
      "01 2020  0 0\r\n",
      "01 2358  0 0\r\n",
      "02 2434  0 0\r\n",
      "02 2863  0 0\r\n",
      "02 3078  0 0\r\n",
      "03 1134  0 0\r\n",
      "03 1613  0 0\r\n"
     ]
    }
   ],
   "source": [
    "!head ./datasets/qrels.text"
   ]
  },
  {
   "cell_type": "markdown",
   "metadata": {},
   "source": [
    "The first column is the `query_id` and the second column is the `document_id`. You can safely ignore the 3rd and 4th columns. Write a function to read in the file: "
   ]
  },
  {
   "cell_type": "code",
   "execution_count": 39,
   "metadata": {},
   "outputs": [],
   "source": [
    "# TODO: Implement this!\n",
    "def read_qrels(root_folder = \"./datasets/\"):\n",
    "    \"\"\"\n",
    "        Reads the qrels.text file. \n",
    "        Output: A dictionary: query_id -> [list of relevant documents]\n",
    "    \"\"\"\n",
    "    \n",
    "    # Read file\n",
    "    with open(root_folder + 'qrels.text', 'r') as content_file:\n",
    "        content = content_file.readlines()\n",
    "    \n",
    "    # Dictionary and initialize all values to empty list\n",
    "    output = {}\n",
    "    for line in content:\n",
    "        split = line.split()\n",
    "        query_id = split[0]\n",
    "        output[query_id] = []\n",
    "        \n",
    "    # Add all relevant documents    \n",
    "    for line in content:\n",
    "        split = line.split()\n",
    "        query_id = split[0]\n",
    "        doc_id = split[1]\n",
    "\n",
    "        output[query_id].append(doc_id)\n",
    "    \n",
    "    return output\n",
    "\n",
    "qrels = read_qrels()"
   ]
  },
  {
   "cell_type": "code",
   "execution_count": 40,
   "metadata": {},
   "outputs": [],
   "source": [
    "####\n",
    "assert len(qrels) == 52, \"There should be 52 queries with relevance judgements\"\n",
    "assert sum(len(j) for j in qrels.values()) == 796, \"There should be a total of 796 Relevance Judgements\"\n",
    "####"
   ]
  },
  {
   "cell_type": "markdown",
   "metadata": {},
   "source": [
    "Now, implement the metrics below. \n",
    "\n",
    "**Note:** For a given query `query_id`, you can assume that documents *not* in `qrels[query_id]` are not relevant to `query_id`. \n"
   ]
  },
  {
   "cell_type": "code",
   "execution_count": 41,
   "metadata": {},
   "outputs": [],
   "source": [
    "import math\n",
    "\n",
    "# TODO: Implement this! (10 points)\n",
    "def recall_k(results, relevant_docs, k):\n",
    "    \"\"\"\n",
    "        Compute Recall@K\n",
    "        Input: \n",
    "            results: A sorted list of 2-tuples (document_id, score), with the most relevant document in the first position\n",
    "            relevant_docs: A set of relevant documents. \n",
    "            k: the cut-off\n",
    "        Output: Recall@K\n",
    "    \"\"\"\n",
    "    output = 0\n",
    "    for i in range(k):\n",
    "        doc_id, _ = results[i]\n",
    "        if str(doc_id) in relevant_docs:\n",
    "            output += 1\n",
    "            \n",
    "    output /= len(relevant_docs)\n",
    "    return output\n",
    "    \n",
    "# TODO: Implement this! (10 points)\n",
    "def precision_k(results, relevant_docs, k):\n",
    "    \"\"\"\n",
    "        Compute Precision@K\n",
    "        Input: \n",
    "            results: A sorted list of 2-tuples (document_id, score), \n",
    "                    with the most relevant document in the first position\n",
    "            relevant_docs: A set of relevant documents. \n",
    "            k: the cut-off\n",
    "        Output: Precision@K\n",
    "    \"\"\"\n",
    "    output = 0\n",
    "    \n",
    "    for i in range(k):\n",
    "        doc_id, _ = results[i]\n",
    "        if str(doc_id) in relevant_docs:\n",
    "            output += 1\n",
    "    \n",
    "    output /= k\n",
    "    return output\n",
    "    \n",
    "\n",
    "# TODO: Implement this! (10 points)\n",
    "def average_precision(results, relevant_docs):\n",
    "    \"\"\"\n",
    "        Compute Average Precision (for a single query - the results are \n",
    "        averaged across queries to get MAP in the next few cells)\n",
    "        Hint: You can use the recall_k and precision_k functions here!\n",
    "        Input: \n",
    "            results: A sorted list of 2-tuples (document_id, score), with the most \n",
    "                    relevant document in the first position\n",
    "            relevant_docs: A set of relevant documents. \n",
    "        Output: Average Precision\n",
    "    \"\"\"\n",
    "    output = 0\n",
    "    \n",
    "    for i in range(len(results)):\n",
    "        doc_id, _ = results[i]\n",
    "        output += precision_k(results, relevant_docs, i+1) * (str(doc_id) in relevant_docs)\n",
    "        \n",
    "    output /= len(relevant_docs)\n",
    "    return output\n",
    "\n",
    "\n",
    "# TODO: Implement this! (15 points)\n",
    "def err(results, relevant_docs):\n",
    "    \"\"\"\n",
    "        Compute the expected reciprocal rank.\n",
    "        Hint: https://dl.acm.org/doi/pdf/10.1145/1645953.1646033?download=true\n",
    "        Input: \n",
    "            results: A sorted list of 2-tuples (document_id, score), with the most \n",
    "                    relevant document in the first position\n",
    "            relevant_docs: A set of relevant documents. \n",
    "        Output: ERR\n",
    "        \n",
    "    \"\"\"\n",
    "    p = 1\n",
    "    err = 0\n",
    "    maxscore = 0\n",
    "    for doc_id, score in results:\n",
    "        if(maxscore < score):\n",
    "            maxscore = score\n",
    "    \n",
    "    for r in range(len(results)):\n",
    "        doc_id, score = results[r]\n",
    "        prob = score_to_prob(score, maxscore)\n",
    "        err += p * prob / (r+1) # r+1 because pseudo-code starts with 1 instead of 0\n",
    "        p *= (1-prob)\n",
    "    return err\n",
    "        \n",
    "# This function should compute a probability out of our self-defined scores\n",
    "def score_to_prob(score, maxscore):\n",
    "    prob = (2**score - 1) / (2**maxscore)\n",
    "    if(math.isnan(prob)):\n",
    "        return not math.isnan(prob)\n",
    "    return prob\n",
    "####"
   ]
  },
  {
   "cell_type": "markdown",
   "metadata": {},
   "source": [
    "*Answer the following questions*: \n",
    "- What are the main drawbacks of precision & recall?\n",
    "    - Recall can only increase in this scenario because the denominator is always constant. Precision only tells us the fraction of true positives among the set of positive instances but doesn't take into account the extent to which they are relevant to the query. This is why we're usually interested in the combination of the two, such as the F-measure.\n",
    "- What problems with Precision@K does Average Precision solve? \n",
    "    - Average Precision also takes the order in which the relevant documents are presented into account, discounting the score if we find documents later than we want.\n",
    "- The CACM dataset has *binary* relevance judgements. However, a more suitable way of assigning judgements is to use graded relevance. Mention a metric which might be more suitable for a graded relevance, and breifly explain why. \n",
    "    - Discounted Cumulative Gain or Expected Reciprocal Rank. DCG is well suited for the task because it gives us a weighted result based on the order in which the relevant documents are presented to us, incorporating the same notion as Average Precision that retrieving relevant documents as soon as possible is preferred over finding them later.\n",
    "- Consider a text processing step: stemming. What effect does this have on metrics? (Hint: Try changing the pre-processing config and try it out!)\n",
    "    - Stemming causes most of our metrics to go up. This happens because many relevant documents may frequently use the word in a slightly different way or with an inflected form of the word. Disregarding these words because they're not exactly the same results in us having more trouble retrieving these particular documents. Stemming enables us to find the most relevant documents earlier on in the search process (e.g. improving Average Precision) and retrieving the relevant documents at all, improving precision and recall. "
   ]
  },
  {
   "cell_type": "markdown",
   "metadata": {},
   "source": [
    "---\n",
    "\n",
    "Let's define some metrics@k using [partial functions](https://docs.python.org/3/library/functools.html#functools.partial)"
   ]
  },
  {
   "cell_type": "code",
   "execution_count": 42,
   "metadata": {},
   "outputs": [],
   "source": [
    "####\n",
    "recall_at_1 = partial(recall_k, k=1)\n",
    "recall_at_5 = partial(recall_k, k=5)\n",
    "recall_at_10 = partial(recall_k, k=10)\n",
    "precision_at_1 = partial(precision_k, k=1)\n",
    "precision_at_5 = partial(precision_k, k=5)\n",
    "precision_at_10 = partial(precision_k, k=10)\n",
    "####"
   ]
  },
  {
   "cell_type": "markdown",
   "metadata": {},
   "source": [
    "---\n",
    "\n",
    "The following function evaluates a `search_fn` using the `metric_fn`. Note that the final number is averaged over all the queries"
   ]
  },
  {
   "cell_type": "code",
   "execution_count": 43,
   "metadata": {},
   "outputs": [],
   "source": [
    "####\n",
    "def evaluate_search_fn(search_fn, metric_fn, index_set):\n",
    "    # build a dict query_id -> query \n",
    "    queries_by_id = dict((q[0], q[1]) for q in queries)\n",
    "    \n",
    "    metrics = np.zeros(len(qrels), dtype=np.float32)\n",
    "    for i, (query_id, relevant_docs) in enumerate(qrels.items()):\n",
    "        query = queries_by_id[str(int(query_id))]\n",
    "        results = search_fn(query, index_set)\n",
    "        metrics[i] = metric_fn(results, relevant_docs)\n",
    "    \n",
    "    return metrics.mean()\n",
    "####"
   ]
  },
  {
   "cell_type": "code",
   "execution_count": 44,
   "metadata": {},
   "outputs": [
    {
     "name": "stdout",
     "output_type": "stream",
     "text": [
      "Index: 1\n",
      "\tEvaluating Search Function: NaiveQL\n"
     ]
    },
    {
     "name": "stderr",
     "output_type": "stream",
     "text": [
      "/usr/lib/python3/dist-packages/ipykernel_launcher.py:89: RuntimeWarning: overflow encountered in double_scalars\n"
     ]
    },
    {
     "name": "stdout",
     "output_type": "stream",
     "text": [
      "\t\tMetric: ERR: -inf\n",
      "\t\tMetric: MAP: 0.008053875528275967\n",
      "\t\tMetric: Recall@1: 0.00332724885083735\n",
      "\t\tMetric: Recall@5: 0.006823752541095018\n",
      "\t\tMetric: Recall@10: 0.006823752541095018\n",
      "\t\tMetric: Precision@1: 0.057692307978868484\n",
      "\t\tMetric: Precision@5: 0.01923076994717121\n",
      "\t\tMetric: Precision@10: 0.009615384973585606\n",
      "\n",
      "\tEvaluating Search Function: QL\n",
      "\t\tMetric: ERR: -inf\n",
      "\t\tMetric: MAP: 0.03792444244027138\n",
      "\t\tMetric: Recall@1: 0.004772678483277559\n",
      "\t\tMetric: Recall@5: 0.035587139427661896\n",
      "\t\tMetric: Recall@10: 0.06285060197114944\n",
      "\t\tMetric: Precision@1: 0.09615384787321091\n",
      "\t\tMetric: Precision@5: 0.0615384615957737\n",
      "\t\tMetric: Precision@10: 0.05192307382822037\n",
      "\n",
      "\tEvaluating Search Function: BM25\n",
      "\t\tMetric: ERR: 0.999882161617279\n",
      "\t\tMetric: MAP: 0.20748016238212585\n",
      "\t\tMetric: Recall@1: 0.06861119717359543\n",
      "\t\tMetric: Recall@5: 0.17815765738487244\n",
      "\t\tMetric: Recall@10: 0.24638524651527405\n",
      "\t\tMetric: Precision@1: 0.48076921701431274\n",
      "\t\tMetric: Precision@5: 0.2730769217014313\n",
      "\t\tMetric: Precision@10: 0.2173077017068863\n",
      "\n",
      "\tEvaluating Search Function: BOW\n",
      "\t\tMetric: ERR: 0.9861456751823425\n",
      "\t\tMetric: MAP: 0.11852128803730011\n",
      "\t\tMetric: Recall@1: 0.04120093956589699\n",
      "\t\tMetric: Recall@5: 0.1050117015838623\n",
      "\t\tMetric: Recall@10: 0.14208979904651642\n",
      "\t\tMetric: Precision@1: 0.21153846383094788\n",
      "\t\tMetric: Precision@5: 0.16923077404499054\n",
      "\t\tMetric: Precision@10: 0.14423076808452606\n",
      "\n",
      "\tEvaluating Search Function: TF-IDF\n",
      "\t\tMetric: ERR: 0.9998931288719177\n",
      "\t\tMetric: MAP: 0.1671399176120758\n",
      "\t\tMetric: Recall@1: 0.06751495599746704\n",
      "\t\tMetric: Recall@5: 0.13905799388885498\n",
      "\t\tMetric: Recall@10: 0.2034551501274109\n",
      "\t\tMetric: Precision@1: 0.3461538553237915\n",
      "\t\tMetric: Precision@5: 0.21153846383094788\n",
      "\t\tMetric: Precision@10: 0.16538462042808533\n",
      "\n",
      "Index: 2\n",
      "\tEvaluating Search Function: NaiveQL\n",
      "\t\tMetric: ERR: -inf\n",
      "\t\tMetric: MAP: 0.01866980642080307\n",
      "\t\tMetric: Recall@1: 0.008185548707842827\n",
      "\t\tMetric: Recall@5: 0.014184451662003994\n",
      "\t\tMetric: Recall@10: 0.017680954188108444\n",
      "\t\tMetric: Precision@1: 0.09615384787321091\n",
      "\t\tMetric: Precision@5: 0.03846153989434242\n",
      "\t\tMetric: Precision@10: 0.023076923564076424\n",
      "\n",
      "\tEvaluating Search Function: QL\n",
      "\t\tMetric: ERR: -inf\n",
      "\t\tMetric: MAP: 0.12449575960636139\n",
      "\t\tMetric: Recall@1: 0.028341276571154594\n",
      "\t\tMetric: Recall@5: 0.10252244770526886\n",
      "\t\tMetric: Recall@10: 0.15701405704021454\n",
      "\t\tMetric: Precision@1: 0.3461538553237915\n",
      "\t\tMetric: Precision@5: 0.23461535573005676\n",
      "\t\tMetric: Precision@10: 0.18076923489570618\n",
      "\n",
      "\tEvaluating Search Function: BM25\n",
      "\t\tMetric: ERR: 0.9998143911361694\n",
      "\t\tMetric: MAP: 0.26010826230049133\n",
      "\t\tMetric: Recall@1: 0.06847386062145233\n",
      "\t\tMetric: Recall@5: 0.21600118279457092\n",
      "\t\tMetric: Recall@10: 0.2941470444202423\n",
      "\t\tMetric: Precision@1: 0.5384615659713745\n",
      "\t\tMetric: Precision@5: 0.4038461446762085\n",
      "\t\tMetric: Precision@10: 0.29615384340286255\n",
      "\n",
      "\tEvaluating Search Function: BOW\n",
      "\t\tMetric: ERR: 0.9816700220108032\n",
      "\t\tMetric: MAP: 0.14917942881584167\n",
      "\t\tMetric: Recall@1: 0.031285710632801056\n",
      "\t\tMetric: Recall@5: 0.14000637829303741\n",
      "\t\tMetric: Recall@10: 0.18208421766757965\n",
      "\t\tMetric: Precision@1: 0.38461539149284363\n",
      "\t\tMetric: Precision@5: 0.27307695150375366\n",
      "\t\tMetric: Precision@10: 0.19615386426448822\n",
      "\n",
      "\tEvaluating Search Function: TF-IDF\n",
      "\t\tMetric: ERR: 0.9997663497924805\n",
      "\t\tMetric: MAP: 0.24701419472694397\n",
      "\t\tMetric: Recall@1: 0.09417755901813507\n",
      "\t\tMetric: Recall@5: 0.19903278350830078\n",
      "\t\tMetric: Recall@10: 0.2572965621948242\n",
      "\t\tMetric: Precision@1: 0.5\n",
      "\t\tMetric: Precision@5: 0.32692310214042664\n",
      "\t\tMetric: Precision@10: 0.24423080682754517\n",
      "\n"
     ]
    }
   ],
   "source": [
    "index_sets = {1, 2}\n",
    "\n",
    "list_of_metrics = [\n",
    "    (\"ERR\", err),\n",
    "    (\"MAP\", average_precision),\n",
    "    (\"Recall@1\",recall_at_1),\n",
    "    (\"Recall@5\", recall_at_5),\n",
    "    (\"Recall@10\", recall_at_10),\n",
    "    (\"Precision@1\", precision_at_1),\n",
    "    (\"Precision@5\", precision_at_5),\n",
    "    (\"Precision@10\", precision_at_10)]\n",
    "\n",
    "list_of_search_fns = [\n",
    "    (\"NaiveQL\", naive_ql_search),\n",
    "    (\"QL\", ql_search),\n",
    "    (\"BM25\", bm25_search),\n",
    "    (\"BOW\", bow_search),\n",
    "    (\"TF-IDF\", tfidf_search)\n",
    "]\n",
    "\n",
    "\n",
    "results = {}\n",
    "for index_set in index_sets:\n",
    "    results[index_set] = {}\n",
    "    print(f\"Index: {index_set}\")\n",
    "    for search_fn_name, search_fn in list_of_search_fns:\n",
    "        print(f\"\\tEvaluating Search Function: {search_fn_name}\")\n",
    "        results[index_set][search_fn_name] = {}\n",
    "        for metric_name, metric_fn in list_of_metrics:\n",
    "            r = evaluate_search_fn(search_fn, metric_fn, index_set).mean()\n",
    "            print(f\"\\t\\tMetric: {metric_name}: {r}\")\n",
    "            results[index_set][search_fn_name][metric_name] = r\n",
    "        print()"
   ]
  },
  {
   "cell_type": "markdown",
   "metadata": {},
   "source": [
    "## Section 5: Results and Analysis (20 points)\n",
    "\n",
    "The `results` dictionary contains the results for all search functions we implemented. Plot the results in bar charts, with clear labels:"
   ]
  },
  {
   "cell_type": "markdown",
   "metadata": {},
   "source": [
    "# Index 1"
   ]
  },
  {
   "cell_type": "code",
   "execution_count": 45,
   "metadata": {},
   "outputs": [],
   "source": [
    "# TODO: Implement this! (20 points)\n",
    "first_results = results[1]\n",
    "\n",
    "err1 = [first_results[x]['ERR'] for i, x in enumerate(first_results)]\n",
    "map1 = [first_results[x]['MAP'] for i, x in enumerate(first_results)]\n",
    "\n",
    "recall1_1 = [first_results[x]['Recall@1'] for i, x in enumerate(first_results)]\n",
    "recall1_5 = [first_results[x]['Recall@5'] for i, x in enumerate(first_results)]\n",
    "recall1_10 = [first_results[x]['Recall@10'] for i, x in enumerate(first_results)]\n",
    "\n",
    "precision1_1 = [first_results[x]['Precision@1'] for i, x in enumerate(first_results)]\n",
    "precision1_5 = [first_results[x]['Precision@5'] for i, x in enumerate(first_results)]\n",
    "precision1_10 = [first_results[x]['Precision@10'] for i, x in enumerate(first_results)]"
   ]
  },
  {
   "cell_type": "code",
   "execution_count": 46,
   "metadata": {},
   "outputs": [],
   "source": [
    "barWidth = 0.25\n",
    "\n",
    "r1 = np.arange(len(err1))\n",
    "r2 = [x + barWidth for x in r1]\n",
    "r3 = [x + barWidth for x in r2]\n",
    "r4 = [x + barWidth for x in r3]\n",
    "r5 = [x + barWidth for x in r4]\n",
    "r6 = [x + barWidth for x in r5]\n",
    "r7 = [x + barWidth for x in r6]\n",
    "r8 = [x + barWidth for x in r7]"
   ]
  },
  {
   "cell_type": "markdown",
   "metadata": {},
   "source": [
    "### Recall"
   ]
  },
  {
   "cell_type": "code",
   "execution_count": 47,
   "metadata": {},
   "outputs": [
    {
     "data": {
      "image/png": "[encoded data removed]",
      "text/plain": [
       "<Figure size 432x288 with 1 Axes>"
      ]
     },
     "metadata": {
      "needs_background": "light"
     },
     "output_type": "display_data"
    }
   ],
   "source": [
    "plt.bar(r3, recall1_1, color='#2d7f5e', width=barWidth, edgecolor='white', label='Recall@1')\n",
    "plt.bar(r4, recall1_5, color='#7f6d5f', width=barWidth, edgecolor='white', label='Recall@5')\n",
    "plt.bar(r5, recall1_10, color='#557f2d', width=barWidth, edgecolor='white', label='Recall@10')\n",
    "\n",
    "plt.xlabel('group', fontweight='bold')\n",
    "plt.xticks([r + 0.75 for r in range(len(err1))], ['NaiveQL', 'QL', 'BM25', 'BOW', 'TF-IDF'])\n",
    "\n",
    "plt.legend()\n",
    "plt.show()"
   ]
  },
  {
   "cell_type": "markdown",
   "metadata": {},
   "source": [
    "### Precision"
   ]
  },
  {
   "cell_type": "code",
   "execution_count": 48,
   "metadata": {},
   "outputs": [
    {
     "data": {
      "image/png": "[encoded data removed]",
      "text/plain": [
       "<Figure size 432x288 with 1 Axes>"
      ]
     },
     "metadata": {
      "needs_background": "light"
     },
     "output_type": "display_data"
    }
   ],
   "source": [
    "plt.bar(r6, precision1_1, color='#2d7f5e', width=barWidth, edgecolor='white', label='Precision@1')\n",
    "plt.bar(r7, precision1_5, color='#7f6d5f', width=barWidth, edgecolor='white', label='Precision@5')\n",
    "plt.bar(r8, precision1_10, color='#557f2d', width=barWidth, edgecolor='white', label='Precision@10')\n",
    "\n",
    "plt.xlabel('group', fontweight='bold')\n",
    "plt.xticks([r + 1.5 for r in range(len(err1))], ['NaiveQL', 'QL', 'BM25', 'BOW', 'TF-IDF'])\n",
    "\n",
    "plt.legend()\n",
    "plt.show()"
   ]
  },
  {
   "cell_type": "markdown",
   "metadata": {},
   "source": [
    "### Error"
   ]
  },
  {
   "cell_type": "code",
   "execution_count": 49,
   "metadata": {},
   "outputs": [
    {
     "data": {
      "image/png": "[encoded data removed]",
      "text/plain": [
       "<Figure size 432x288 with 1 Axes>"
      ]
     },
     "metadata": {
      "needs_background": "light"
     },
     "output_type": "display_data"
    }
   ],
   "source": [
    "plt.bar(r2, err1, color='#2d7f5e', width=barWidth, edgecolor='white', label='Error')\n",
    "\n",
    "plt.xlabel('group', fontweight='bold')\n",
    "plt.xticks([r + barWidth for r in range(len(err1))], ['NaiveQL', 'QL', 'BM25', 'BOW', 'TF-IDF'])\n",
    "\n",
    "plt.legend()\n",
    "plt.show()"
   ]
  },
  {
   "cell_type": "markdown",
   "metadata": {},
   "source": [
    "### MAP"
   ]
  },
  {
   "cell_type": "code",
   "execution_count": 50,
   "metadata": {},
   "outputs": [
    {
     "data": {
      "image/png": "[encoded data removed]",
      "text/plain": [
       "<Figure size 432x288 with 1 Axes>"
      ]
     },
     "metadata": {
      "needs_background": "light"
     },
     "output_type": "display_data"
    }
   ],
   "source": [
    "plt.bar(r2, map1, color='#2d7f5e', width=barWidth, edgecolor='white', label='MAP')\n",
    "\n",
    "plt.xlabel('group', fontweight='bold')\n",
    "plt.xticks([r + barWidth for r in range(len(err1))], ['NaiveQL', 'QL', 'BM25', 'BOW', 'TF-IDF'])\n",
    "\n",
    "plt.legend()\n",
    "plt.show()"
   ]
  },
  {
   "cell_type": "markdown",
   "metadata": {},
   "source": [
    "# Index 2"
   ]
  },
  {
   "cell_type": "code",
   "execution_count": 51,
   "metadata": {},
   "outputs": [],
   "source": [
    "# TODO: Implement this! (20 points)\n",
    "second_results = results[2]\n",
    "\n",
    "err1 = [first_results[x]['ERR'] for i, x in enumerate(first_results)]\n",
    "map1 = [first_results[x]['MAP'] for i, x in enumerate(first_results)]\n",
    "\n",
    "recall1_1 = [first_results[x]['Recall@1'] for i, x in enumerate(first_results)]\n",
    "recall1_5 = [first_results[x]['Recall@5'] for i, x in enumerate(first_results)]\n",
    "recall1_10 = [first_results[x]['Recall@10'] for i, x in enumerate(first_results)]\n",
    "\n",
    "precision1_1 = [first_results[x]['Precision@1'] for i, x in enumerate(first_results)]\n",
    "precision1_5 = [first_results[x]['Precision@5'] for i, x in enumerate(first_results)]\n",
    "precision1_10 = [first_results[x]['Precision@10'] for i, x in enumerate(first_results)]"
   ]
  },
  {
   "cell_type": "code",
   "execution_count": 52,
   "metadata": {},
   "outputs": [],
   "source": [
    "barWidth = 0.25\n",
    "\n",
    "r1 = np.arange(len(err1))\n",
    "r2 = [x + barWidth for x in r1]\n",
    "r3 = [x + barWidth for x in r2]\n",
    "r4 = [x + barWidth for x in r3]\n",
    "r5 = [x + barWidth for x in r4]\n",
    "r6 = [x + barWidth for x in r5]\n",
    "r7 = [x + barWidth for x in r6]\n",
    "r8 = [x + barWidth for x in r7]"
   ]
  },
  {
   "cell_type": "markdown",
   "metadata": {},
   "source": [
    "### Recall"
   ]
  },
  {
   "cell_type": "code",
   "execution_count": 53,
   "metadata": {},
   "outputs": [
    {
     "data": {
      "image/png": "[encoded data removed]",
      "text/plain": [
       "<Figure size 432x288 with 1 Axes>"
      ]
     },
     "metadata": {
      "needs_background": "light"
     },
     "output_type": "display_data"
    }
   ],
   "source": [
    "plt.bar(r3, recall1_1, color='#2d7f5e', width=barWidth, edgecolor='white', label='Recall@1')\n",
    "plt.bar(r4, recall1_5, color='#7f6d5f', width=barWidth, edgecolor='white', label='Recall@5')\n",
    "plt.bar(r5, recall1_10, color='#557f2d', width=barWidth, edgecolor='white', label='Recall@10')\n",
    "\n",
    "plt.xlabel('group', fontweight='bold')\n",
    "plt.xticks([r + 0.75 for r in range(len(err1))], ['NaiveQL', 'QL', 'BM25', 'BOW', 'TF-IDF'])\n",
    "\n",
    "plt.legend()\n",
    "plt.show()"
   ]
  },
  {
   "cell_type": "markdown",
   "metadata": {},
   "source": [
    "### Precision"
   ]
  },
  {
   "cell_type": "code",
   "execution_count": 54,
   "metadata": {},
   "outputs": [
    {
     "data": {
      "image/png": "[encoded data removed]",
      "text/plain": [
       "<Figure size 432x288 with 1 Axes>"
      ]
     },
     "metadata": {
      "needs_background": "light"
     },
     "output_type": "display_data"
    }
   ],
   "source": [
    "plt.bar(r6, precision1_1, color='#2d7f5e', width=barWidth, edgecolor='white', label='Precision@1')\n",
    "plt.bar(r7, precision1_5, color='#7f6d5f', width=barWidth, edgecolor='white', label='Precision@5')\n",
    "plt.bar(r8, precision1_10, color='#557f2d', width=barWidth, edgecolor='white', label='Precision@10')\n",
    "\n",
    "plt.xlabel('group', fontweight='bold')\n",
    "plt.xticks([r + 1.5 for r in range(len(err1))], ['NaiveQL', 'QL', 'BM25', 'BOW', 'TF-IDF'])\n",
    "\n",
    "plt.legend()\n",
    "plt.show()"
   ]
  },
  {
   "cell_type": "markdown",
   "metadata": {},
   "source": [
    "### Error"
   ]
  },
  {
   "cell_type": "code",
   "execution_count": 55,
   "metadata": {},
   "outputs": [
    {
     "data": {
      "image/png": "[encoded data removed]",
      "text/plain": [
       "<Figure size 432x288 with 1 Axes>"
      ]
     },
     "metadata": {
      "needs_background": "light"
     },
     "output_type": "display_data"
    }
   ],
   "source": [
    "plt.bar(r2, err1, color='#2d7f5e', width=barWidth, edgecolor='white', label='Error')\n",
    "\n",
    "plt.xlabel('group', fontweight='bold')\n",
    "plt.xticks([r + barWidth for r in range(len(err1))], ['NaiveQL', 'QL', 'BM25', 'BOW', 'TF-IDF'])\n",
    "\n",
    "plt.legend()\n",
    "plt.show()"
   ]
  },
  {
   "cell_type": "markdown",
   "metadata": {},
   "source": [
    "### MAP"
   ]
  },
  {
   "cell_type": "code",
   "execution_count": 56,
   "metadata": {},
   "outputs": [
    {
     "data": {
      "image/png": "[encoded data removed]",
      "text/plain": [
       "<Figure size 432x288 with 1 Axes>"
      ]
     },
     "metadata": {
      "needs_background": "light"
     },
     "output_type": "display_data"
    }
   ],
   "source": [
    "plt.bar(r2, map1, color='#2d7f5e', width=barWidth, edgecolor='white', label='MAP')\n",
    "\n",
    "plt.xlabel('group', fontweight='bold')\n",
    "plt.xticks([r + barWidth for r in range(len(err1))], ['NaiveQL', 'QL', 'BM25', 'BOW', 'TF-IDF'])\n",
    "\n",
    "plt.legend()\n",
    "plt.show()"
   ]
  },
  {
   "cell_type": "markdown",
   "metadata": {},
   "source": [
    "Write a summary of what you observe in the results.\n",
    "You summary should compare results across the 2 indices and the methods being used. State what you expected to see in the results, followed by either supporting evidence *or* justify why the results did not support your expectations.      \n",
    "*Hint*: You may build upon the answers from the previous sections. "
   ]
  },
  {
   "cell_type": "markdown",
   "metadata": {},
   "source": [
    "Here we provide a summary of our results. We will first discuss the individual results for each algorithm and the differences that led to these results. Subsequently, we discuss the difference across the 2 indices.\n",
    "\n",
    "First off, it has become clear that the naive implementation of Query Likelihood is outperformed by all the other methods. This seems to be the case because the naive assumption that documents that lack one of the words in the query get -infinity probability of being relevant. For longer queries this applies to almost every single document, essentially turning our method into gambling.\n",
    "\n",
    "This is offset by the non-naive implementation of Query Likelihood which yields way better results, such as the mAP of 0.12 and 0.12 respectively for index 1 and 2. Replacing the value of negative infinity for documents lacking in one or more words in the query with a smoothing value causes our model not to punish lacking a single word too much. In return, we will still find relevant documents fairly quickly because we don't discard potentially relevant ones as soon anymore.\n",
    "\n",
    "However, for us, BoW still seems to perform slightly better, albeit by a fairly small margin. This was still quite unexpected. Apparently, keeping track of which documents contain how many of the words in the query is still a valid method of ascertaining the relevance of documents. Intuitively, this makes sense because it is a very rudimentary yet very solid way of finding documents relevant to the query.\n",
    "\n",
    "Fourthly, TF-IDF gets mAP scores of 0.17 and 0.25 on index 1 and 2 respectively. This is starting to look like something that works fairly well. TF-IDF achieves this improvement by also taking into account the weight of a word ('does it occur in every document or only in a few documents'), how often it occurs in the document and how long the document is. In doing so, we can discard meaningless words such as 'the' and only focus on the weighted fraction of the document that is covered by the query. This turns out to work fairly well because we are now finding documents that are very specific to our query.\n",
    "\n",
    "Lastly, BM25 extends TF-IDF even further, resulting in the mAP scores of 0.21 and 0.26 on index 1 and 2 respectively. Apparently the adjustable weights allow for better weighing of the query than pure TF-IDF does. Moreover, these parameters also allow for even more manual fine-tuning.\n",
    "\n",
    "Ultimately, across the 2 indices it becomes clear that index 2 outperforms index 1 every single time for each algorithm. This makes sense, because preprocessing the words is a very important part of the information retrieval pipeline. If an end-user searches with a query, e.g. inflections of the words are just as relevant as the specific words themselves. Preprocessing allows for better retrieval of these differences in inflection and other forms, in turn causing the metrics to rise in case we are using the preprocessed words of index 2 as opposed to the raw inputs of index 1."
   ]
  },
  {
   "cell_type": "code",
   "execution_count": null,
   "metadata": {},
   "outputs": [],
   "source": []
  }
 ],
 "metadata": {
  "kernelspec": {
   "display_name": "Python 3",
   "language": "python",
   "name": "python3"
  },
  "language_info": {
   "codemirror_mode": {
    "name": "ipython",
    "version": 3
   },
   "file_extension": ".py",
   "mimetype": "text/x-python",
   "name": "python",
   "nbconvert_exporter": "python",
   "pygments_lexer": "ipython3",
   "version": "3.6.4"
  }
 },
 "nbformat": 4,
 "nbformat_minor": 4
}
